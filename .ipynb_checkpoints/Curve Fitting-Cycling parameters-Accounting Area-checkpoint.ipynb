{
 "cells": [
  {
   "cell_type": "markdown",
   "id": "85636d9a",
   "metadata": {},
   "source": [
    "# Fitting data to a curve\n",
    "This program fits a set of input data to a specified function. It uses the the scipy optimize curve_fit function, and also contains code for plotting, calculating residuals, and R^2 values.\n",
    "\n",
    "To use this code, save this program as new script, and make the edits desired there."
   ]
  },
  {
   "cell_type": "code",
   "execution_count": 2,
   "id": "86d892ee",
   "metadata": {},
   "outputs": [],
   "source": [
    "import numpy as np\n",
    "import pandas as pd\n",
    "\n",
    "import matplotlib.pyplot as plt\n",
    "import scipy\n",
    "import scipy.optimize"
   ]
  },
  {
   "cell_type": "markdown",
   "id": "8852cc0a",
   "metadata": {},
   "source": [
    "#### Input the data to use"
   ]
  },
  {
   "cell_type": "code",
   "execution_count": 3,
   "id": "349b34d5",
   "metadata": {},
   "outputs": [],
   "source": [
    "# specify the path to the folder containing the data you want to use, note the path finishes with / and uses /, not \\\n",
    "path = \"C:/Users/gjames/OneDrive - Esri Australia/Honours/Data/Gaussian curve fitting/\""
   ]
  },
  {
   "cell_type": "code",
   "execution_count": 4,
   "id": "1c30270a",
   "metadata": {},
   "outputs": [],
   "source": [
    "#specify file name here\n",
    "walking_data = pd.read_csv(path + \"Montreal trip distance data cycling work.csv\")\n",
    "#walking_data.columns # uncomment to see available columns"
   ]
  },
  {
   "cell_type": "markdown",
   "id": "bd18600d",
   "metadata": {},
   "source": [
    "#### Defining data and plotting\n",
    "\n",
    "Use this to visualise what the data to fit will look like. It is necessary to define what input data to use here"
   ]
  },
  {
   "cell_type": "code",
   "execution_count": 6,
   "id": "1a6bb817",
   "metadata": {},
   "outputs": [
    {
     "data": {
      "text/plain": [
       "[<matplotlib.lines.Line2D at 0x1b0bc269e50>]"
      ]
     },
     "execution_count": 6,
     "metadata": {},
     "output_type": "execute_result"
    },
    {
     "data": {
      "image/png": "[encoded data removed]",
      "text/plain": [
       "<Figure size 432x288 with 1 Axes>"
      ]
     },
     "metadata": {
      "needs_background": "light"
     },
     "output_type": "display_data"
    }
   ],
   "source": [
    "xdata = np.array(walking_data.Distance.iloc[1:])\n",
    "ydata = np.array([2.97280084e-01, 2.30922922e-01, 1.22097177e-01, 9.55543126e-02,\n",
    "       6.43664467e-02, 4.67154417e-02, 3.45057240e-02, 2.31302106e-02,\n",
    "       2.02389343e-02, 1.35663530e-02, 1.30060037e-02, 8.92805446e-03,\n",
    "       8.18404992e-03, 4.90022116e-03, 3.03347024e-03, 2.47733403e-03,\n",
    "       2.82017937e-03, 2.02974847e-03, 1.17968287e-03, 1.67639145e-03,\n",
    "       3.98142969e-04, 1.26394593e-04, 7.23896308e-04, 1.15403759e-04,\n",
    "       2.21190538e-04, 1.06171458e-04, 3.06263822e-04, 9.83069060e-05,\n",
    "       2.84387835e-04, 9.15271194e-05, 0.00000000e+00, 3.42488576e-04,\n",
    "       3.31785808e-04, 2.41298769e-04]) [1:]#np.array(walking_data.Percentage.iloc[1:])\n",
    "\n",
    "plt.plot(xdata, ydata, \"ko\")"
   ]
  },
  {
   "cell_type": "markdown",
   "id": "320b7810",
   "metadata": {},
   "source": [
    "#### Specify the Function to fit\n",
    "Define the curve you wish to fit the data to here."
   ]
  },
  {
   "cell_type": "code",
   "execution_count": 9,
   "id": "55fc2795",
   "metadata": {},
   "outputs": [],
   "source": [
    "def impedance_function_fit(xdata, A = 1):\n",
    "    '''Define the impedance function mathematically'''\n",
    "    \n",
    "    #using an inverse square law\n",
    "    ydata = []\n",
    "    for x in xdata:\n",
    "        f = A/x**2\n",
    "        \n",
    "        ydata.append(f)\n",
    "    \n",
    "    return ydata"
   ]
  },
  {
   "cell_type": "markdown",
   "id": "8feb43d9",
   "metadata": {},
   "source": [
    "#### Run optimisation\n",
    "Set results equal to the parameters that we want to find. This defines the curve we want to use"
   ]
  },
  {
   "cell_type": "code",
   "execution_count": 10,
   "id": "25cc2d06",
   "metadata": {},
   "outputs": [],
   "source": [
    "A = scipy.optimize.curve_fit(impedance_function_fit, xdata/1000, ydata)[0] \n",
    "    #in this case the /1000 was needed as the exponential curve was too small at high x values"
   ]
  },
  {
   "cell_type": "markdown",
   "id": "976bdf05",
   "metadata": {},
   "source": [
    "#### Plot results"
   ]
  },
  {
   "cell_type": "code",
   "execution_count": 24,
   "id": "a006aa84",
   "metadata": {},
   "outputs": [],
   "source": [
    "#set the range of x values to plot over\n",
    "xrange_start = 1\n",
    "xrange_end = 20\n",
    "\n",
    "x_values = np.linspace(xrange_start, xrange_end, 1000) #gives 1000 x data points\n",
    "\n",
    "#set the parameters equal to the found ones above here\n",
    "y_values = impedance_function_fit(x_values, A = A)"
   ]
  },
  {
   "cell_type": "code",
   "execution_count": 25,
   "id": "3cd8d7b5",
   "metadata": {},
   "outputs": [
    {
     "data": {
      "text/plain": [
       "[<matplotlib.lines.Line2D at 0x1b0bd827b80>,\n",
       " <matplotlib.lines.Line2D at 0x1b0bd827ca0>]"
      ]
     },
     "execution_count": 25,
     "metadata": {},
     "output_type": "execute_result"
    },
    {
     "data": {
      "image/png": "[encoded data removed]",
      "text/plain": [
       "<Figure size 432x288 with 1 Axes>"
      ]
     },
     "metadata": {
      "needs_background": "light"
     },
     "output_type": "display_data"
    }
   ],
   "source": [
    "plt.plot(x_values, y_values, \"b-\", xdata/1000, ydata, \"ko\")"
   ]
  },
  {
   "cell_type": "markdown",
   "id": "91183330",
   "metadata": {},
   "source": [
    "#### Plot residuals\n",
    "Finds the differences between the fit curve and the data"
   ]
  },
  {
   "cell_type": "code",
   "execution_count": 33,
   "id": "0b4e945d",
   "metadata": {},
   "outputs": [],
   "source": [
    "#rempve /1000, change parameters here\n",
    "residuals = ydata - impedance_function_fit(xdata/1000, A = A) "
   ]
  },
  {
   "cell_type": "code",
   "execution_count": 34,
   "id": "f6115c6e",
   "metadata": {},
   "outputs": [
    {
     "data": {
      "text/plain": [
       "[<matplotlib.lines.Line2D at 0x1b0bda15e80>,\n",
       " <matplotlib.lines.Line2D at 0x1b0bda15f40>,\n",
       " <matplotlib.lines.Line2D at 0x1b0bda230a0>,\n",
       " <matplotlib.lines.Line2D at 0x1b0bda231c0>,\n",
       " <matplotlib.lines.Line2D at 0x1b0bda232e0>,\n",
       " <matplotlib.lines.Line2D at 0x1b0bda23400>,\n",
       " <matplotlib.lines.Line2D at 0x1b0bda23520>,\n",
       " <matplotlib.lines.Line2D at 0x1b0bda23640>,\n",
       " <matplotlib.lines.Line2D at 0x1b0bda23760>,\n",
       " <matplotlib.lines.Line2D at 0x1b0bda23880>,\n",
       " <matplotlib.lines.Line2D at 0x1b0bda239a0>,\n",
       " <matplotlib.lines.Line2D at 0x1b0bda23ac0>,\n",
       " <matplotlib.lines.Line2D at 0x1b0bda23be0>,\n",
       " <matplotlib.lines.Line2D at 0x1b0bda23d00>,\n",
       " <matplotlib.lines.Line2D at 0x1b0bda23e20>,\n",
       " <matplotlib.lines.Line2D at 0x1b0bda23f40>,\n",
       " <matplotlib.lines.Line2D at 0x1b0bda280a0>,\n",
       " <matplotlib.lines.Line2D at 0x1b0bda281c0>,\n",
       " <matplotlib.lines.Line2D at 0x1b0bda282e0>,\n",
       " <matplotlib.lines.Line2D at 0x1b0bda28400>,\n",
       " <matplotlib.lines.Line2D at 0x1b0bda28520>,\n",
       " <matplotlib.lines.Line2D at 0x1b0bda28640>,\n",
       " <matplotlib.lines.Line2D at 0x1b0bda28760>,\n",
       " <matplotlib.lines.Line2D at 0x1b0bda28880>,\n",
       " <matplotlib.lines.Line2D at 0x1b0bda289a0>,\n",
       " <matplotlib.lines.Line2D at 0x1b0bda28ac0>,\n",
       " <matplotlib.lines.Line2D at 0x1b0bda28be0>,\n",
       " <matplotlib.lines.Line2D at 0x1b0bda28d00>,\n",
       " <matplotlib.lines.Line2D at 0x1b0bda28e20>,\n",
       " <matplotlib.lines.Line2D at 0x1b0bda28f40>,\n",
       " <matplotlib.lines.Line2D at 0x1b0bda2f0a0>,\n",
       " <matplotlib.lines.Line2D at 0x1b0bda2f1c0>,\n",
       " <matplotlib.lines.Line2D at 0x1b0bda2f2e0>,\n",
       " <matplotlib.lines.Line2D at 0x1b0bda2f400>]"
      ]
     },
     "execution_count": 34,
     "metadata": {},
     "output_type": "execute_result"
    },
    {
     "data": {
      "image/png": "[encoded data removed]",
      "text/plain": [
       "<Figure size 432x288 with 1 Axes>"
      ]
     },
     "metadata": {
      "needs_background": "light"
     },
     "output_type": "display_data"
    }
   ],
   "source": [
    "plt.plot(xdata, residuals, \"ko\", xdata, [0]*len(xdata), \"k-\")"
   ]
  },
  {
   "cell_type": "markdown",
   "id": "fbda1427",
   "metadata": {},
   "source": [
    "#### Calculating R^2 value"
   ]
  },
  {
   "cell_type": "code",
   "execution_count": 29,
   "id": "6f13de0a",
   "metadata": {},
   "outputs": [],
   "source": [
    "def calculate_r_squared(residuals, ydata):\n",
    "    '''Calculates the r-squared value from the residual data found above\n",
    "    '''\n",
    "    \n",
    "    #find the residual sum of squares\n",
    "    ss_res = np.sum(residuals**2)\n",
    "    \n",
    "    #find the total sum of squares\n",
    "    ss_tot = np.sum((ydata - np.mean(ydata))**2)\n",
    "    \n",
    "    #evaluate r_squared using the required formula\n",
    "    r_squared = 1 - ss_res/ss_tot\n",
    "    \n",
    "    \n",
    "    return r_squared"
   ]
  },
  {
   "cell_type": "code",
   "execution_count": 30,
   "id": "70c9c4a8",
   "metadata": {},
   "outputs": [
    {
     "name": "stdout",
     "output_type": "stream",
     "text": [
      "The R^2 value is  -65.29732426691734\n"
     ]
    }
   ],
   "source": [
    "print(\"The R^2 value is \", calculate_r_squared(residuals, ydata))"
   ]
  },
  {
   "cell_type": "code",
   "execution_count": 63,
   "id": "30196d94",
   "metadata": {},
   "outputs": [
    {
     "name": "stdout",
     "output_type": "stream",
     "text": [
      "A = 9.659729556601262 , a = 0.8918821039050062 , b = 5.075387409670461\n"
     ]
    }
   ],
   "source": [
    "print(\"A =\", A, \", a =\", a, \", b =\",b)"
   ]
  },
  {
   "cell_type": "code",
   "execution_count": null,
   "id": "d2b07b01",
   "metadata": {},
   "outputs": [],
   "source": []
  }
 ],
 "metadata": {
  "kernelspec": {
   "display_name": "Python 3 (ipykernel)",
   "language": "python",
   "name": "python3"
  },
  "language_info": {
   "codemirror_mode": {
    "name": "ipython",
    "version": 3
   },
   "file_extension": ".py",
   "mimetype": "text/x-python",
   "name": "python",
   "nbconvert_exporter": "python",
   "pygments_lexer": "ipython3",
   "version": "3.9.12"
  }
 },
 "nbformat": 4,
 "nbformat_minor": 5
}
