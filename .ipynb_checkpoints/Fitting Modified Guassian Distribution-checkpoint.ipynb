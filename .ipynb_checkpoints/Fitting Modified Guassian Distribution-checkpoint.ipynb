{
 "cells": [
  {
   "cell_type": "markdown",
   "id": "1ba32d6e",
   "metadata": {},
   "source": [
    "### Fitting Modified Gaussian Distribution\n",
    "\n",
    "We want to take two given percentile values (e.g. the median value (50th percentile) is at 1000m), and use these to create a modified normal distribution to use for our accessability impedance function.\n",
    "\n",
    "This will be done numerically, as a gaussian function cannot be integrated, by testing an equal area constant and gaussian component, and then adjusting until a result within a given threshold of desired is reached."
   ]
  },
  {
   "cell_type": "code",
   "execution_count": 9,
   "id": "b4bbd42b",
   "metadata": {},
   "outputs": [],
   "source": [
    "import numpy as np\n",
    "import pandas as pd"
   ]
  },
  {
   "cell_type": "markdown",
   "id": "84930c3c",
   "metadata": {},
   "source": [
    "The modified Gaussian function to be fit is:\n",
    "\n",
    "\\begin{align}\n",
    "    f(x) = 1,  t_{ij} <= a\\\\\n",
    "    f(x) = e^{-\\frac{(t_{ij} -a)^2}{b^2}}, t_{ij} >= a\\\\\n",
    "\\end{align}"
   ]
  },
  {
   "cell_type": "code",
   "execution_count": 2,
   "id": "6d32c11a",
   "metadata": {},
   "outputs": [],
   "source": [
    "def impedance_function(x, a=1, b=1):\n",
    "    '''Define the impedance function mathematically'''\n",
    "    \n",
    "    if x <= a:\n",
    "        f = 1\n",
    "    else:\n",
    "        f = np.exp((-(x-a)**2)/b**2)\n",
    "    \n",
    "    return f"
   ]
  },
  {
   "cell_type": "code",
   "execution_count": 3,
   "id": "39f4184a",
   "metadata": {},
   "outputs": [],
   "source": [
    "def norm_impedance_function(x, a=1, b=1):\n",
    "    '''Defines a normalised impedance function, which can be used with probabilitic values.\n",
    "    '''\n",
    "    # find the overall area of the curve\n",
    "    tot_area = a + 0.5*b*np.sqrt(np.pi)\n",
    "    \n",
    "    #evaluate the function at the given point\n",
    "    f = impedance_function(x, a=a, b=b)\n",
    "    \n",
    "    #find the normalised function\n",
    "    nf = f/tot_area\n",
    "    \n",
    "    return nf"
   ]
  },
  {
   "cell_type": "code",
   "execution_count": 4,
   "id": "1abe1bfb",
   "metadata": {},
   "outputs": [
    {
     "ename": "IndentationError",
     "evalue": "expected an indented block (3781541130.py, line 34)",
     "output_type": "error",
     "traceback": [
      "\u001b[1;36m  Input \u001b[1;32mIn [4]\u001b[1;36m\u001b[0m\n\u001b[1;33m    trial_count += 1\u001b[0m\n\u001b[1;37m    ^\u001b[0m\n\u001b[1;31mIndentationError\u001b[0m\u001b[1;31m:\u001b[0m expected an indented block\n"
     ]
    }
   ],
   "source": [
    "## not needed\n",
    "\n",
    "def find_mg_parameters(input_percentile1, value1, input_percentile2, value2, tolerance):\n",
    "    '''Finds the modified gaussian parameters a and b to match the given values within a given tolerance\n",
    "    Inputs: input_percentilex - one of the percentile input values\n",
    "            valuex - the value at the given percentile\n",
    "    '''\n",
    "    \n",
    "    #define intitial a and b values and errors to ensure the start of the loop\n",
    "    a = 1000\n",
    "    b = 200\n",
    "    \n",
    "    error1 = 1000\n",
    "    error2 = 1000\n",
    "    \n",
    "    trial_count = 0 # keep a count of the number of trials\n",
    "    \n",
    "    while abs(error1) > tolerance or abs(error2) > 1: #while either of the error values are greater than the tolerance\n",
    "\n",
    "        \n",
    "        #adjust the a and b values\n",
    "        \n",
    "        #everytime the \n",
    "        if (error1 > tolerance) or (error1 > tolerance):\n",
    "        \n",
    "        \n",
    "        \n",
    "        \n",
    "        #find the percentile with these given values\n",
    "        \n",
    "        \n",
    "    \n",
    "    \n",
    "        trial_count += 1\n",
    "    \n",
    "    "
   ]
  },
  {
   "cell_type": "code",
   "execution_count": 5,
   "id": "ebae96e9",
   "metadata": {},
   "outputs": [],
   "source": [
    "def area_of_impedance(lower_bound, upper_bound, dt, a = 1000, b = 200):\n",
    "    '''find the Rhieman integral of the impedance function, with a given resolution'''\n",
    "    \n",
    "    area = 0 #initialise the area\n",
    "    \n",
    "    no_t_values =int((upper_bound-lower_bound) / dt)\n",
    "    \n",
    "    for t in np.linspace(lower_bound, upper_bound-dt, no_t_values): #-dt gives left side rhiemman integration\n",
    "        \n",
    "        impedance_value = impedance_function(t, a=a, b=b) #find the height of the current rectangle\n",
    "        \n",
    "        area+= impedance_value*dt #add the rectangle to the overall area\n",
    "        \n",
    "    return area\n",
    "    "
   ]
  },
  {
   "cell_type": "code",
   "execution_count": 6,
   "id": "cb570806",
   "metadata": {},
   "outputs": [],
   "source": [
    "def impedance_percentile(value, dt, a = 1000, b = 200):\n",
    "    '''Finds the corresponding percentile value of a given input t value, for the given impedance function parameters'''\n",
    "    \n",
    "     # find the overall area of the curve\n",
    "    tot_area = a + 0.5*b*np.sqrt(np.pi)\n",
    "        \n",
    "    #find the area up to the percentile\n",
    "    area = area_of_impedance(0, value, dt, a=a, b=b) #have set dt to 0.1, could be changed\n",
    "    \n",
    "    #give the corresponding percentile\n",
    "    percentile = area/tot_area\n",
    "    \n",
    "    return percentile"
   ]
  },
  {
   "cell_type": "code",
   "execution_count": 7,
   "id": "611d7bd1",
   "metadata": {},
   "outputs": [],
   "source": [
    "def impedance_percentile_fit(xdata, a, b):\n",
    "    '''Impendance percentile function, but for use within the scipy optimise curve_fit function. Assumes a dt value of\n",
    "    0.1'''\n",
    "    \n",
    "    fdata = []\n",
    "    \n",
    "    for value in xdata:\n",
    "        fdata.append(impedance_percentile(value, 0.1, a = a, b = b)) #have set dt to 0.1, change here\n",
    "    \n",
    "    return fdata"
   ]
  },
  {
   "cell_type": "code",
   "execution_count": 14,
   "id": "4a6e5986",
   "metadata": {},
   "outputs": [
    {
     "data": {
      "text/plain": [
       "9.999999999999831"
      ]
     },
     "execution_count": 14,
     "metadata": {},
     "output_type": "execute_result"
    }
   ],
   "source": [
    "area_of_impedance(0,10,0.01)"
   ]
  },
  {
   "cell_type": "code",
   "execution_count": 15,
   "id": "b8b267b2",
   "metadata": {},
   "outputs": [
    {
     "data": {
      "text/plain": [
       "array([  0. ,   0.1,   0.2, ...,  99.8,  99.9, 100. ])"
      ]
     },
     "execution_count": 15,
     "metadata": {},
     "output_type": "execute_result"
    }
   ],
   "source": [
    "np.linspace(0,100,int(100/0.1 +1))"
   ]
  },
  {
   "cell_type": "code",
   "execution_count": 16,
   "id": "b52a0cc0",
   "metadata": {},
   "outputs": [
    {
     "data": {
      "text/plain": [
       "1"
      ]
     },
     "execution_count": 16,
     "metadata": {},
     "output_type": "execute_result"
    }
   ],
   "source": [
    "impedance_function(2, a=1000, b=200)"
   ]
  },
  {
   "cell_type": "code",
   "execution_count": 17,
   "id": "0cc0a9f8",
   "metadata": {},
   "outputs": [
    {
     "data": {
      "text/plain": [
       "0.4943349438177112"
      ]
     },
     "execution_count": 17,
     "metadata": {},
     "output_type": "execute_result"
    }
   ],
   "source": [
    "\n",
    "impedance_percentile(801, 0.1, a = 1000, b = 700)"
   ]
  },
  {
   "cell_type": "code",
   "execution_count": 18,
   "id": "543d998b",
   "metadata": {},
   "outputs": [
    {
     "data": {
      "text/plain": [
       "0.4993517885992762"
      ]
     },
     "execution_count": 18,
     "metadata": {},
     "output_type": "execute_result"
    }
   ],
   "source": [
    "impedance_function(700, a=400, b=360)"
   ]
  },
  {
   "cell_type": "markdown",
   "id": "46927db4",
   "metadata": {},
   "source": [
    "### Testing"
   ]
  },
  {
   "cell_type": "code",
   "execution_count": 277,
   "id": "e8a5e102",
   "metadata": {
    "scrolled": true
   },
   "outputs": [
    {
     "name": "stdout",
     "output_type": "stream",
     "text": [
      "5 :  0.5000001681308144\n",
      "10 :  0.8247528340827855\n"
     ]
    }
   ],
   "source": [
    "test_values(0, 10.51006, 5, 10) # b = 10.51 gives a curve with 50% area on either side of a point 5 along from a "
   ]
  },
  {
   "cell_type": "code",
   "execution_count": 39,
   "id": "7337a64d",
   "metadata": {},
   "outputs": [],
   "source": [
    "def test_values(a, b, value1, value2):\n",
    "    '''Gives the resulting percentiles at the given values, for a given a and b\n",
    "    '''\n",
    "    \n",
    "    \n",
    "    print(value1, \": \", impedance_percentile(value1, 0.1, a = a, b = b))\n",
    "    print(value2, \": \", impedance_percentile(value2, 0.1, a = a, b = b))"
   ]
  },
  {
   "cell_type": "markdown",
   "id": "1da45e63",
   "metadata": {},
   "source": [
    "### Plotting"
   ]
  },
  {
   "cell_type": "code",
   "execution_count": 21,
   "id": "917e714d",
   "metadata": {},
   "outputs": [],
   "source": [
    "import matplotlib.pyplot as plt"
   ]
  },
  {
   "cell_type": "code",
   "execution_count": 301,
   "id": "b04ac044",
   "metadata": {},
   "outputs": [],
   "source": [
    "values = []\n",
    "scale = 25\n",
    "t_values = np.linspace(0,scale,int(scale/0.1 + 1))\n",
    "for t in np.linspace(0,scale,int(scale/0.1 + 1)):\n",
    "    values.append(impedance_function(t, a=5, b=5.642)) "
   ]
  },
  {
   "cell_type": "code",
   "execution_count": 302,
   "id": "edc5dba5",
   "metadata": {
    "scrolled": true
   },
   "outputs": [
    {
     "data": {
      "text/plain": [
       "[<matplotlib.lines.Line2D at 0x1f177fa9fa0>]"
      ]
     },
     "execution_count": 302,
     "metadata": {},
     "output_type": "execute_result"
    },
    {
     "data": {
      "image/png": "[encoded data removed]",
      "text/plain": [
       "<Figure size 432x288 with 1 Axes>"
      ]
     },
     "metadata": {
      "needs_background": "light"
     },
     "output_type": "display_data"
    }
   ],
   "source": [
    "plt.plot(t_values, values)"
   ]
  },
  {
   "cell_type": "markdown",
   "id": "08b96eb0",
   "metadata": {},
   "source": [
    "### Optimising using scipy"
   ]
  },
  {
   "cell_type": "code",
   "execution_count": 31,
   "id": "6065c7f1",
   "metadata": {},
   "outputs": [],
   "source": [
    "import scipy\n",
    "import scipy.optimize"
   ]
  },
  {
   "cell_type": "code",
   "execution_count": 24,
   "id": "aaba5184",
   "metadata": {},
   "outputs": [],
   "source": [
    "#the xdata corresponds to the walking distances, and the ydata the corresponding percentiles\n",
    "xdata = [801,1789]\n",
    "ydata = [0.5, 0.85]"
   ]
  },
  {
   "cell_type": "code",
   "execution_count": 26,
   "id": "dcf12f4f",
   "metadata": {},
   "outputs": [
    {
     "data": {
      "text/plain": [
       "array([1.44131190e-08, 1.71570899e+03])"
      ]
     },
     "execution_count": 26,
     "metadata": {},
     "output_type": "execute_result"
    }
   ],
   "source": [
    "#this gives the values of a and b needed\n",
    "scipy.optimize.curve_fit(impedance_percentile_fit, xdata, ydata, bounds = ([0, 0], [1e9, 1e9]))"
   ]
  },
  {
   "cell_type": "code",
   "execution_count": 8,
   "id": "da9a3db7",
   "metadata": {},
   "outputs": [],
   "source": [
    "def optimise_impedance_curve(xdata, ydata):\n",
    "    '''Runs SciPy optimisation, to return the parameters and b to use within the function'''\n",
    "    a, b = scipy.optimize.curve_fit(impedance_percentile_fit, xdata, ydata)[0]#, bounds = ([0, 0], [1e9, 1e9]))[0]\n",
    "    return a, b"
   ]
  },
  {
   "cell_type": "code",
   "execution_count": 121,
   "id": "9b46e1a3",
   "metadata": {},
   "outputs": [
    {
     "data": {
      "text/plain": [
       "(-658.3072006470652, 2156.0369425561125)"
      ]
     },
     "execution_count": 121,
     "metadata": {},
     "output_type": "execute_result"
    }
   ],
   "source": [
    "optimise_impedance_curve([801,1789], [0.5, 0.85])"
   ]
  },
  {
   "cell_type": "code",
   "execution_count": 122,
   "id": "5fec3ef9",
   "metadata": {},
   "outputs": [
    {
     "data": {
      "text/plain": [
       "(5.314589434101094, 5.2869196718495175)"
      ]
     },
     "execution_count": 122,
     "metadata": {},
     "output_type": "execute_result"
    }
   ],
   "source": [
    "optimise_impedance_curve([5,9], [0.5, 0.85])"
   ]
  },
  {
   "cell_type": "code",
   "execution_count": 299,
   "id": "17a1f791",
   "metadata": {},
   "outputs": [
    {
     "data": {
      "text/plain": [
       "10.000092313404462"
      ]
     },
     "execution_count": 299,
     "metadata": {},
     "output_type": "execute_result"
    }
   ],
   "source": [
    "0.5 * 5.642*np.sqrt(np.pi)+5"
   ]
  },
  {
   "cell_type": "code",
   "execution_count": 300,
   "id": "9e73dab4",
   "metadata": {},
   "outputs": [
    {
     "name": "stdout",
     "output_type": "stream",
     "text": [
      "5 :  0.49999538437238517\n",
      "10 :  0.8976574003631618\n"
     ]
    }
   ],
   "source": [
    "test_values(5, 5.642, 5, 10)"
   ]
  },
  {
   "cell_type": "code",
   "execution_count": 295,
   "id": "b2abe1fc",
   "metadata": {},
   "outputs": [
    {
     "name": "stdout",
     "output_type": "stream",
     "text": [
      "0 :  0.0\n",
      "5 :  0.7946526042247278\n"
     ]
    }
   ],
   "source": [
    "test_values(0, 5.65, 0, 5)"
   ]
  },
  {
   "cell_type": "code",
   "execution_count": 296,
   "id": "aacb7851",
   "metadata": {},
   "outputs": [
    {
     "data": {
      "text/plain": [
       "5.64"
      ]
     },
     "execution_count": 296,
     "metadata": {},
     "output_type": "execute_result"
    }
   ],
   "source": [
    "5*1.128"
   ]
  },
  {
   "cell_type": "code",
   "execution_count": null,
   "id": "b7077aee",
   "metadata": {},
   "outputs": [],
   "source": [
    "def impedance_function_A(x, A = 1, a=1, b=1):\n",
    "    '''Define the impedance function mathematically'''\n",
    "    \n",
    "    #use this is impedance frunction fit\n",
    "    #     for x in xdata:\n",
    "#         ydata.append(impedance_function_A(x, A = A, a=a, b=b))\n",
    "    if x <= a:\n",
    "        f = A*1\n",
    "    else:\n",
    "        f = A*np.exp((-(x-a)**2)/b**2)\n",
    "    \n",
    "    return f"
   ]
  },
  {
   "cell_type": "markdown",
   "id": "1fcfac73",
   "metadata": {},
   "source": [
    "### Fitting to Percentage by distance curve\n",
    "Fits to a dataset containing the percentage mode share by distance. (Montreal data is used here)"
   ]
  },
  {
   "cell_type": "code",
   "execution_count": 35,
   "id": "4f9f1c3f",
   "metadata": {},
   "outputs": [],
   "source": [
    "import numpy as np\n",
    "import pandas as pd\n",
    "\n",
    "import matplotlib.pyplot as plt\n",
    "import scipy\n",
    "import scipy.optimize"
   ]
  },
  {
   "cell_type": "markdown",
   "id": "2a03ef91",
   "metadata": {},
   "source": [
    "#### Input the data to use"
   ]
  },
  {
   "cell_type": "code",
   "execution_count": 216,
   "id": "6f314f25",
   "metadata": {},
   "outputs": [],
   "source": [
    "path = \"C:/Users/gjames/OneDrive - Esri Australia/Honours/Data/Gaussian curve fitting/\""
   ]
  },
  {
   "cell_type": "code",
   "execution_count": 217,
   "id": "c3b95a3c",
   "metadata": {},
   "outputs": [],
   "source": [
    "walking_data = pd.read_csv(path + \"Montreal trip distance data walking work.csv\")\n",
    "cycling_data = pd.read_csv(path + \"Montreal trip distance data cycling work.csv\")"
   ]
  },
  {
   "cell_type": "markdown",
   "id": "4ad51633",
   "metadata": {},
   "source": [
    "#### Defining data and plotting"
   ]
  },
  {
   "cell_type": "code",
   "execution_count": 226,
   "id": "f38b9ab3",
   "metadata": {},
   "outputs": [
    {
     "data": {
      "text/plain": [
       "[<matplotlib.lines.Line2D at 0x2694696fca0>]"
      ]
     },
     "execution_count": 226,
     "metadata": {},
     "output_type": "execute_result"
    },
    {
     "data": {
      "image/png": "[encoded data removed]",
      "text/plain": [
       "<Figure size 432x288 with 1 Axes>"
      ]
     },
     "metadata": {
      "needs_background": "light"
     },
     "output_type": "display_data"
    }
   ],
   "source": [
    "xdata_w = np.array(walking_data.Distance[:])\n",
    "ydata_w = np.array(walking_data.Percentage[:])\n",
    "\n",
    "plt.plot(xdata_w, ydata_w, \"ko\")"
   ]
  },
  {
   "cell_type": "code",
   "execution_count": 227,
   "id": "8c226c8a",
   "metadata": {},
   "outputs": [
    {
     "data": {
      "text/plain": [
       "[<matplotlib.lines.Line2D at 0x269469e41f0>]"
      ]
     },
     "execution_count": 227,
     "metadata": {},
     "output_type": "execute_result"
    },
    {
     "data": {
      "image/png": "[encoded data removed]",
      "text/plain": [
       "<Figure size 432x288 with 1 Axes>"
      ]
     },
     "metadata": {
      "needs_background": "light"
     },
     "output_type": "display_data"
    }
   ],
   "source": [
    "xdata_c = np.array(cycling_data.Distance[:])\n",
    "ydata_c = np.array(cycling_data.Percentage[:])\n",
    "\n",
    "plt.plot(xdata_c, ydata_c, \"ko\")"
   ]
  },
  {
   "cell_type": "markdown",
   "id": "c2d77b47",
   "metadata": {},
   "source": [
    "#### Specify the Function to fit"
   ]
  },
  {
   "cell_type": "code",
   "execution_count": 228,
   "id": "3cf19637",
   "metadata": {},
   "outputs": [],
   "source": [
    "def impedance_function_fit(xdata, A = 1, a=1, b=1):\n",
    "    '''Define the impedance function mathematically'''\n",
    "    \n",
    "    ydata = []\n",
    "    for x in xdata:\n",
    "        if x <= a:\n",
    "            f = A*1\n",
    "        else:\n",
    "            f = A*np.exp((-(x-a)**2)/b**2)\n",
    "        \n",
    "        ydata.append(f)\n",
    "    \n",
    "    return ydata"
   ]
  },
  {
   "cell_type": "markdown",
   "id": "ec7d968d",
   "metadata": {},
   "source": [
    "#### Run optimisation\n",
    "Set results equal to the parameters that we want to find"
   ]
  },
  {
   "cell_type": "code",
   "execution_count": 229,
   "id": "3ffa756f",
   "metadata": {},
   "outputs": [],
   "source": [
    "A, a, b = scipy.optimize.curve_fit(impedance_function_fit, np.array(xdata_c)/1000, np.array(ydata_c))[0]"
   ]
  },
  {
   "cell_type": "code",
   "execution_count": 230,
   "id": "a7a7c3a7",
   "metadata": {},
   "outputs": [],
   "source": [
    "#change scale to km so that it runs (exponential values too small at high x otherwise)\n",
    "walk_A, walk_a, walk_b = scipy.optimize.curve_fit(impedance_function_fit, np.array(xdata_w)/1000, np.array(ydata_w))[0]\n",
    "cycle_A, cycle_a, cycle_b = scipy.optimize.curve_fit(impedance_function_fit, np.array(xdata_c)/1000, np.array(ydata_c))[0]"
   ]
  },
  {
   "cell_type": "code",
   "execution_count": 231,
   "id": "98cbbd68",
   "metadata": {},
   "outputs": [
    {
     "data": {
      "text/plain": [
       "(8.038622835897463, 1.8474630031222439, 4.644373018027041)"
      ]
     },
     "execution_count": 231,
     "metadata": {},
     "output_type": "execute_result"
    }
   ],
   "source": [
    "cycle_A, cycle_a, cycle_b"
   ]
  },
  {
   "cell_type": "code",
   "execution_count": 232,
   "id": "aff0c68c",
   "metadata": {},
   "outputs": [
    {
     "data": {
      "text/plain": [
       "(5.797765489108898, 0.4149755896958262, 1.3859365062846891)"
      ]
     },
     "execution_count": 232,
     "metadata": {},
     "output_type": "execute_result"
    }
   ],
   "source": [
    "walk_A, walk_a, walk_b "
   ]
  },
  {
   "cell_type": "markdown",
   "id": "57aed03a",
   "metadata": {},
   "source": [
    "#### Plot optimised function"
   ]
  },
  {
   "cell_type": "code",
   "execution_count": 176,
   "id": "4e1edfc1",
   "metadata": {},
   "outputs": [],
   "source": [
    "scale = 20\n",
    "x_values = np.linspace(0,scale,int(scale/0.1 + 1))\n",
    "y_values = impedance_function_fit(x_values, A = A, a=a, b=b)"
   ]
  },
  {
   "cell_type": "code",
   "execution_count": 177,
   "id": "1906b7b3",
   "metadata": {},
   "outputs": [
    {
     "data": {
      "text/plain": [
       "[<matplotlib.lines.Line2D at 0x26941bf7460>,\n",
       " <matplotlib.lines.Line2D at 0x26941bf74c0>]"
      ]
     },
     "execution_count": 177,
     "metadata": {},
     "output_type": "execute_result"
    },
    {
     "data": {
      "image/png": "[encoded data removed]",
      "text/plain": [
       "<Figure size 432x288 with 1 Axes>"
      ]
     },
     "metadata": {
      "needs_background": "light"
     },
     "output_type": "display_data"
    }
   ],
   "source": [
    "plt.plot(x_values, y_values, xdata_c/1000, ydata_c, \"ko\")"
   ]
  },
  {
   "cell_type": "code",
   "execution_count": 165,
   "id": "88ec0d34",
   "metadata": {},
   "outputs": [
    {
     "data": {
      "text/plain": [
       "(array([17.07513232,  3.31860549,  1.5797104 ]),\n",
       " array([[inf, inf, inf],\n",
       "        [inf, inf, inf],\n",
       "        [inf, inf, inf]]))"
      ]
     },
     "execution_count": 165,
     "metadata": {},
     "output_type": "execute_result"
    }
   ],
   "source": [
    "scipy.optimize.curve_fit(impedance_function_fit, [5, 10, 15], [5.5, 4, 2.8])"
   ]
  },
  {
   "cell_type": "markdown",
   "id": "11eb897c",
   "metadata": {},
   "source": [
    "### Plotting found cycling and walking values\n",
    "Using the values of a and b found in the curve fitting scripts, the following curves are found. These ignore the outlier, and are converted to time using the speeds of 5kph for walking and 18kph for cycling"
   ]
  },
  {
   "cell_type": "markdown",
   "id": "a04c7060",
   "metadata": {},
   "source": [
    "#### Finding the data to plot"
   ]
  },
  {
   "cell_type": "code",
   "execution_count": 244,
   "id": "760f9348",
   "metadata": {},
   "outputs": [],
   "source": [
    "#set the range of x values to plot over\n",
    "xrange_start = 0\n",
    "xrange_end = 50\n",
    "\n",
    "x_values = np.linspace(xrange_start, xrange_end, 1000) #gives 1000 x data points\n",
    "\n",
    "#set the parameters equal to the found ones above here\n",
    "y_values_walk = impedance_function_fit(x_values, A = A, a = 0.24668954664504333/0.08333, b = 1.4430855/0.08333)\n",
    "y_values_cycle = impedance_function_fit(x_values, A = A, a = 0.891882/0.3, b = 5.075387/0.3)\n"
   ]
  },
  {
   "cell_type": "code",
   "execution_count": 245,
   "id": "d493b1e4",
   "metadata": {},
   "outputs": [
    {
     "data": {
      "text/plain": [
       "[<matplotlib.lines.Line2D at 0x26946b5e040>,\n",
       " <matplotlib.lines.Line2D at 0x26946b5e160>]"
      ]
     },
     "execution_count": 245,
     "metadata": {},
     "output_type": "execute_result"
    },
    {
     "data": {
      "image/png": "[encoded data removed]",
      "text/plain": [
       "<Figure size 432x288 with 1 Axes>"
      ]
     },
     "metadata": {
      "needs_background": "light"
     },
     "output_type": "display_data"
    }
   ],
   "source": [
    "plt.plot(x_values, y_values_walk, \"b-\", x_values, y_values_cycle, \"r-\")"
   ]
  },
  {
   "cell_type": "code",
   "execution_count": null,
   "id": "8b256a89",
   "metadata": {},
   "outputs": [],
   "source": []
  },
  {
   "cell_type": "code",
   "execution_count": null,
   "id": "55a9f661",
   "metadata": {},
   "outputs": [],
   "source": []
  },
  {
   "cell_type": "code",
   "execution_count": null,
   "id": "a5123db0",
   "metadata": {},
   "outputs": [],
   "source": []
  },
  {
   "cell_type": "code",
   "execution_count": null,
   "id": "93e0dd8f",
   "metadata": {},
   "outputs": [],
   "source": []
  },
  {
   "cell_type": "markdown",
   "id": "f62d1eb5",
   "metadata": {},
   "source": [
    "### Area problem solving attempt\n",
    "\n",
    "We don't know the underlying population distribution for these results, so it is difficult to determine how they scale.\n",
    "\n",
    "Assume constant population distribution, and scale percentage of trips by amount of people within each area layer."
   ]
  },
  {
   "cell_type": "code",
   "execution_count": 239,
   "id": "dfa0bf1b",
   "metadata": {},
   "outputs": [],
   "source": [
    "def area_scale_constant(percent_trip_df):\n",
    "    '''Takes an input set of percentage of trips by distance, and adds columns to the dataframe containing\n",
    "    the area corresponding to that percentage, and a scaled relative proportion by area\n",
    "    '''\n",
    "    xdata = np.array(percent_trip_df.Distance)\n",
    "    ydata = np.array(percent_trip_df.Percentage)\n",
    "    \n",
    "    #go through and find the area of corresponding to the given distance\n",
    "    x_areas = []\n",
    "    for i in range(len(xdata)):\n",
    "        \n",
    "        \n",
    "        #area = np.pi * ((xdata[i]+100)**2 - xdata[i]**2)\n",
    "        \n",
    "        \n",
    "        #for the first area, find the difference between it and 0\n",
    "        if i == 0:\n",
    "            area = np.pi * xdata[i]**2\n",
    "            \n",
    "        # otherwise find the area added to get to that distance\n",
    "        else:\n",
    "            area = np.pi * ( xdata[i]**2 - xdata[i-1]**2)\n",
    "        \n",
    "        x_areas.append(area)\n",
    "    \n",
    "    \n",
    "    #scale the percentage value by its corresponding area\n",
    "    scaled_percents = []\n",
    "    for i in range(len(xdata)):\n",
    "        #avoid divide by 0\n",
    "        if x_areas[i] == 0:\n",
    "            scaled_percent = 0\n",
    "        else:\n",
    "            scaled_percent = ydata[i]/x_areas[i]\n",
    "        scaled_percents.append(scaled_percent)\n",
    "    \n",
    "    #normalise results\n",
    "    print(scaled_percents)\n",
    "    N = sum(np.array(scaled_percents))\n",
    "    print(N)\n",
    "    scaled_percents_norm = np.array(scaled_percents)/N\n",
    "    \n",
    "    print(scaled_percents_norm)\n",
    "        \n",
    "    #add results to the dataframe\n",
    "    percent_trip_df[\"Area\"] = x_areas\n",
    "    percent_trip_df[\"Scaled Percents\"] = scaled_percents_norm\n",
    "    \n",
    "    \n",
    "    return percent_trip_df"
   ]
  },
  {
   "cell_type": "code",
   "execution_count": 240,
   "id": "5c70cf24",
   "metadata": {},
   "outputs": [
    {
     "data": {
      "text/html": [
       "<div>\n",
       "<style scoped>\n",
       "    .dataframe tbody tr th:only-of-type {\n",
       "        vertical-align: middle;\n",
       "    }\n",
       "\n",
       "    .dataframe tbody tr th {\n",
       "        vertical-align: top;\n",
       "    }\n",
       "\n",
       "    .dataframe thead th {\n",
       "        text-align: right;\n",
       "    }\n",
       "</style>\n",
       "<table border=\"1\" class=\"dataframe\">\n",
       "  <thead>\n",
       "    <tr style=\"text-align: right;\">\n",
       "      <th></th>\n",
       "      <th>Distance</th>\n",
       "      <th>Percentage</th>\n",
       "    </tr>\n",
       "  </thead>\n",
       "  <tbody>\n",
       "    <tr>\n",
       "      <th>0</th>\n",
       "      <td>250</td>\n",
       "      <td>1.4</td>\n",
       "    </tr>\n",
       "    <tr>\n",
       "      <th>1</th>\n",
       "      <td>750</td>\n",
       "      <td>8.7</td>\n",
       "    </tr>\n",
       "    <tr>\n",
       "      <th>2</th>\n",
       "      <td>1250</td>\n",
       "      <td>9.2</td>\n",
       "    </tr>\n",
       "    <tr>\n",
       "      <th>3</th>\n",
       "      <td>1750</td>\n",
       "      <td>10.8</td>\n",
       "    </tr>\n",
       "    <tr>\n",
       "      <th>4</th>\n",
       "      <td>2250</td>\n",
       "      <td>9.7</td>\n",
       "    </tr>\n",
       "    <tr>\n",
       "      <th>5</th>\n",
       "      <td>2750</td>\n",
       "      <td>8.8</td>\n",
       "    </tr>\n",
       "    <tr>\n",
       "      <th>6</th>\n",
       "      <td>3250</td>\n",
       "      <td>7.8</td>\n",
       "    </tr>\n",
       "    <tr>\n",
       "      <th>7</th>\n",
       "      <td>3750</td>\n",
       "      <td>6.1</td>\n",
       "    </tr>\n",
       "    <tr>\n",
       "      <th>8</th>\n",
       "      <td>4250</td>\n",
       "      <td>6.1</td>\n",
       "    </tr>\n",
       "    <tr>\n",
       "      <th>9</th>\n",
       "      <td>4750</td>\n",
       "      <td>4.6</td>\n",
       "    </tr>\n",
       "    <tr>\n",
       "      <th>10</th>\n",
       "      <td>5250</td>\n",
       "      <td>4.9</td>\n",
       "    </tr>\n",
       "    <tr>\n",
       "      <th>11</th>\n",
       "      <td>5750</td>\n",
       "      <td>3.7</td>\n",
       "    </tr>\n",
       "    <tr>\n",
       "      <th>12</th>\n",
       "      <td>6250</td>\n",
       "      <td>3.7</td>\n",
       "    </tr>\n",
       "    <tr>\n",
       "      <th>13</th>\n",
       "      <td>6750</td>\n",
       "      <td>2.4</td>\n",
       "    </tr>\n",
       "    <tr>\n",
       "      <th>14</th>\n",
       "      <td>7250</td>\n",
       "      <td>1.6</td>\n",
       "    </tr>\n",
       "    <tr>\n",
       "      <th>15</th>\n",
       "      <td>7750</td>\n",
       "      <td>1.4</td>\n",
       "    </tr>\n",
       "    <tr>\n",
       "      <th>16</th>\n",
       "      <td>8250</td>\n",
       "      <td>1.7</td>\n",
       "    </tr>\n",
       "    <tr>\n",
       "      <th>17</th>\n",
       "      <td>8750</td>\n",
       "      <td>1.3</td>\n",
       "    </tr>\n",
       "    <tr>\n",
       "      <th>18</th>\n",
       "      <td>9250</td>\n",
       "      <td>0.8</td>\n",
       "    </tr>\n",
       "    <tr>\n",
       "      <th>19</th>\n",
       "      <td>9750</td>\n",
       "      <td>1.2</td>\n",
       "    </tr>\n",
       "    <tr>\n",
       "      <th>20</th>\n",
       "      <td>10250</td>\n",
       "      <td>0.3</td>\n",
       "    </tr>\n",
       "    <tr>\n",
       "      <th>21</th>\n",
       "      <td>10750</td>\n",
       "      <td>0.1</td>\n",
       "    </tr>\n",
       "    <tr>\n",
       "      <th>22</th>\n",
       "      <td>11250</td>\n",
       "      <td>0.6</td>\n",
       "    </tr>\n",
       "    <tr>\n",
       "      <th>23</th>\n",
       "      <td>11750</td>\n",
       "      <td>0.1</td>\n",
       "    </tr>\n",
       "    <tr>\n",
       "      <th>24</th>\n",
       "      <td>12250</td>\n",
       "      <td>0.2</td>\n",
       "    </tr>\n",
       "    <tr>\n",
       "      <th>25</th>\n",
       "      <td>12750</td>\n",
       "      <td>0.1</td>\n",
       "    </tr>\n",
       "    <tr>\n",
       "      <th>26</th>\n",
       "      <td>13250</td>\n",
       "      <td>0.3</td>\n",
       "    </tr>\n",
       "    <tr>\n",
       "      <th>27</th>\n",
       "      <td>13750</td>\n",
       "      <td>0.1</td>\n",
       "    </tr>\n",
       "    <tr>\n",
       "      <th>28</th>\n",
       "      <td>14250</td>\n",
       "      <td>0.3</td>\n",
       "    </tr>\n",
       "    <tr>\n",
       "      <th>29</th>\n",
       "      <td>14750</td>\n",
       "      <td>0.1</td>\n",
       "    </tr>\n",
       "    <tr>\n",
       "      <th>30</th>\n",
       "      <td>15250</td>\n",
       "      <td>0.0</td>\n",
       "    </tr>\n",
       "    <tr>\n",
       "      <th>31</th>\n",
       "      <td>15750</td>\n",
       "      <td>0.4</td>\n",
       "    </tr>\n",
       "    <tr>\n",
       "      <th>32</th>\n",
       "      <td>16250</td>\n",
       "      <td>0.4</td>\n",
       "    </tr>\n",
       "    <tr>\n",
       "      <th>33</th>\n",
       "      <td>16750</td>\n",
       "      <td>0.3</td>\n",
       "    </tr>\n",
       "  </tbody>\n",
       "</table>\n",
       "</div>"
      ],
      "text/plain": [
       "    Distance  Percentage\n",
       "0        250         1.4\n",
       "1        750         8.7\n",
       "2       1250         9.2\n",
       "3       1750        10.8\n",
       "4       2250         9.7\n",
       "5       2750         8.8\n",
       "6       3250         7.8\n",
       "7       3750         6.1\n",
       "8       4250         6.1\n",
       "9       4750         4.6\n",
       "10      5250         4.9\n",
       "11      5750         3.7\n",
       "12      6250         3.7\n",
       "13      6750         2.4\n",
       "14      7250         1.6\n",
       "15      7750         1.4\n",
       "16      8250         1.7\n",
       "17      8750         1.3\n",
       "18      9250         0.8\n",
       "19      9750         1.2\n",
       "20     10250         0.3\n",
       "21     10750         0.1\n",
       "22     11250         0.6\n",
       "23     11750         0.1\n",
       "24     12250         0.2\n",
       "25     12750         0.1\n",
       "26     13250         0.3\n",
       "27     13750         0.1\n",
       "28     14250         0.3\n",
       "29     14750         0.1\n",
       "30     15250         0.0\n",
       "31     15750         0.4\n",
       "32     16250         0.4\n",
       "33     16750         0.3"
      ]
     },
     "execution_count": 240,
     "metadata": {},
     "output_type": "execute_result"
    }
   ],
   "source": [
    "cycling_data"
   ]
  },
  {
   "cell_type": "code",
   "execution_count": 241,
   "id": "f1ae8909",
   "metadata": {},
   "outputs": [
    {
     "name": "stdout",
     "output_type": "stream",
     "text": [
      "[7.130141450516911e-06, 5.5385920195979576e-06, 2.928450952890874e-06, 2.291831180523293e-06, 1.5438029479913847e-06, 1.1204507993669432e-06, 8.276057040778557e-07, 5.547686587774638e-07, 4.854225764302808e-07, 3.2538343921009715e-07, 3.1194368846011487e-07, 2.141357416145501e-07, 1.9629109648000425e-07, 1.1752980412939963e-07, 7.275654541343788e-08, 5.941784542097426e-08, 6.764085081405552e-08, 4.868268847516799e-08, 2.829421210522584e-08, 4.020756457058409e-08, 9.54929658551372e-09, 3.0315227255599115e-09, 1.7362357428206765e-08, 2.7679120537720934e-09, 5.305164769729845e-09, 2.546479089470326e-09, 7.345612758087477e-09, 2.3578510087688197e-09, 6.8209261325098e-09, 2.1952405943709703e-09, 0.0, 8.214448675710727e-09, 7.957747154594767e-09, 5.787452476068921e-09]\n",
      "2.3984591778318947e-05\n",
      "[2.97280084e-01 2.30922922e-01 1.22097177e-01 9.55543126e-02\n",
      " 6.43664467e-02 4.67154417e-02 3.45057240e-02 2.31302106e-02\n",
      " 2.02389343e-02 1.35663530e-02 1.30060037e-02 8.92805446e-03\n",
      " 8.18404992e-03 4.90022116e-03 3.03347024e-03 2.47733403e-03\n",
      " 2.82017937e-03 2.02974847e-03 1.17968287e-03 1.67639145e-03\n",
      " 3.98142969e-04 1.26394593e-04 7.23896308e-04 1.15403759e-04\n",
      " 2.21190538e-04 1.06171458e-04 3.06263822e-04 9.83069060e-05\n",
      " 2.84387835e-04 9.15271194e-05 0.00000000e+00 3.42488576e-04\n",
      " 3.31785808e-04 2.41298769e-04]\n"
     ]
    },
    {
     "data": {
      "text/html": [
       "<div>\n",
       "<style scoped>\n",
       "    .dataframe tbody tr th:only-of-type {\n",
       "        vertical-align: middle;\n",
       "    }\n",
       "\n",
       "    .dataframe tbody tr th {\n",
       "        vertical-align: top;\n",
       "    }\n",
       "\n",
       "    .dataframe thead th {\n",
       "        text-align: right;\n",
       "    }\n",
       "</style>\n",
       "<table border=\"1\" class=\"dataframe\">\n",
       "  <thead>\n",
       "    <tr style=\"text-align: right;\">\n",
       "      <th></th>\n",
       "      <th>Distance</th>\n",
       "      <th>Percentage</th>\n",
       "      <th>Area</th>\n",
       "      <th>Scaled Percents</th>\n",
       "    </tr>\n",
       "  </thead>\n",
       "  <tbody>\n",
       "    <tr>\n",
       "      <th>0</th>\n",
       "      <td>250</td>\n",
       "      <td>1.4</td>\n",
       "      <td>1.963495e+05</td>\n",
       "      <td>0.297280</td>\n",
       "    </tr>\n",
       "    <tr>\n",
       "      <th>1</th>\n",
       "      <td>750</td>\n",
       "      <td>8.7</td>\n",
       "      <td>1.570796e+06</td>\n",
       "      <td>0.230923</td>\n",
       "    </tr>\n",
       "    <tr>\n",
       "      <th>2</th>\n",
       "      <td>1250</td>\n",
       "      <td>9.2</td>\n",
       "      <td>3.141593e+06</td>\n",
       "      <td>0.122097</td>\n",
       "    </tr>\n",
       "    <tr>\n",
       "      <th>3</th>\n",
       "      <td>1750</td>\n",
       "      <td>10.8</td>\n",
       "      <td>4.712389e+06</td>\n",
       "      <td>0.095554</td>\n",
       "    </tr>\n",
       "    <tr>\n",
       "      <th>4</th>\n",
       "      <td>2250</td>\n",
       "      <td>9.7</td>\n",
       "      <td>6.283185e+06</td>\n",
       "      <td>0.064366</td>\n",
       "    </tr>\n",
       "    <tr>\n",
       "      <th>5</th>\n",
       "      <td>2750</td>\n",
       "      <td>8.8</td>\n",
       "      <td>7.853982e+06</td>\n",
       "      <td>0.046715</td>\n",
       "    </tr>\n",
       "    <tr>\n",
       "      <th>6</th>\n",
       "      <td>3250</td>\n",
       "      <td>7.8</td>\n",
       "      <td>9.424778e+06</td>\n",
       "      <td>0.034506</td>\n",
       "    </tr>\n",
       "    <tr>\n",
       "      <th>7</th>\n",
       "      <td>3750</td>\n",
       "      <td>6.1</td>\n",
       "      <td>1.099557e+07</td>\n",
       "      <td>0.023130</td>\n",
       "    </tr>\n",
       "    <tr>\n",
       "      <th>8</th>\n",
       "      <td>4250</td>\n",
       "      <td>6.1</td>\n",
       "      <td>1.256637e+07</td>\n",
       "      <td>0.020239</td>\n",
       "    </tr>\n",
       "    <tr>\n",
       "      <th>9</th>\n",
       "      <td>4750</td>\n",
       "      <td>4.6</td>\n",
       "      <td>1.413717e+07</td>\n",
       "      <td>0.013566</td>\n",
       "    </tr>\n",
       "    <tr>\n",
       "      <th>10</th>\n",
       "      <td>5250</td>\n",
       "      <td>4.9</td>\n",
       "      <td>1.570796e+07</td>\n",
       "      <td>0.013006</td>\n",
       "    </tr>\n",
       "    <tr>\n",
       "      <th>11</th>\n",
       "      <td>5750</td>\n",
       "      <td>3.7</td>\n",
       "      <td>1.727876e+07</td>\n",
       "      <td>0.008928</td>\n",
       "    </tr>\n",
       "    <tr>\n",
       "      <th>12</th>\n",
       "      <td>6250</td>\n",
       "      <td>3.7</td>\n",
       "      <td>1.884956e+07</td>\n",
       "      <td>0.008184</td>\n",
       "    </tr>\n",
       "    <tr>\n",
       "      <th>13</th>\n",
       "      <td>6750</td>\n",
       "      <td>2.4</td>\n",
       "      <td>2.042035e+07</td>\n",
       "      <td>0.004900</td>\n",
       "    </tr>\n",
       "    <tr>\n",
       "      <th>14</th>\n",
       "      <td>7250</td>\n",
       "      <td>1.6</td>\n",
       "      <td>2.199115e+07</td>\n",
       "      <td>0.003033</td>\n",
       "    </tr>\n",
       "    <tr>\n",
       "      <th>15</th>\n",
       "      <td>7750</td>\n",
       "      <td>1.4</td>\n",
       "      <td>2.356194e+07</td>\n",
       "      <td>0.002477</td>\n",
       "    </tr>\n",
       "    <tr>\n",
       "      <th>16</th>\n",
       "      <td>8250</td>\n",
       "      <td>1.7</td>\n",
       "      <td>2.513274e+07</td>\n",
       "      <td>0.002820</td>\n",
       "    </tr>\n",
       "    <tr>\n",
       "      <th>17</th>\n",
       "      <td>8750</td>\n",
       "      <td>1.3</td>\n",
       "      <td>2.670354e+07</td>\n",
       "      <td>0.002030</td>\n",
       "    </tr>\n",
       "    <tr>\n",
       "      <th>18</th>\n",
       "      <td>9250</td>\n",
       "      <td>0.8</td>\n",
       "      <td>2.827433e+07</td>\n",
       "      <td>0.001180</td>\n",
       "    </tr>\n",
       "    <tr>\n",
       "      <th>19</th>\n",
       "      <td>9750</td>\n",
       "      <td>1.2</td>\n",
       "      <td>2.984513e+07</td>\n",
       "      <td>0.001676</td>\n",
       "    </tr>\n",
       "    <tr>\n",
       "      <th>20</th>\n",
       "      <td>10250</td>\n",
       "      <td>0.3</td>\n",
       "      <td>3.141593e+07</td>\n",
       "      <td>0.000398</td>\n",
       "    </tr>\n",
       "    <tr>\n",
       "      <th>21</th>\n",
       "      <td>10750</td>\n",
       "      <td>0.1</td>\n",
       "      <td>3.298672e+07</td>\n",
       "      <td>0.000126</td>\n",
       "    </tr>\n",
       "    <tr>\n",
       "      <th>22</th>\n",
       "      <td>11250</td>\n",
       "      <td>0.6</td>\n",
       "      <td>3.455752e+07</td>\n",
       "      <td>0.000724</td>\n",
       "    </tr>\n",
       "    <tr>\n",
       "      <th>23</th>\n",
       "      <td>11750</td>\n",
       "      <td>0.1</td>\n",
       "      <td>3.612832e+07</td>\n",
       "      <td>0.000115</td>\n",
       "    </tr>\n",
       "    <tr>\n",
       "      <th>24</th>\n",
       "      <td>12250</td>\n",
       "      <td>0.2</td>\n",
       "      <td>3.769911e+07</td>\n",
       "      <td>0.000221</td>\n",
       "    </tr>\n",
       "    <tr>\n",
       "      <th>25</th>\n",
       "      <td>12750</td>\n",
       "      <td>0.1</td>\n",
       "      <td>3.926991e+07</td>\n",
       "      <td>0.000106</td>\n",
       "    </tr>\n",
       "    <tr>\n",
       "      <th>26</th>\n",
       "      <td>13250</td>\n",
       "      <td>0.3</td>\n",
       "      <td>4.084070e+07</td>\n",
       "      <td>0.000306</td>\n",
       "    </tr>\n",
       "    <tr>\n",
       "      <th>27</th>\n",
       "      <td>13750</td>\n",
       "      <td>0.1</td>\n",
       "      <td>4.241150e+07</td>\n",
       "      <td>0.000098</td>\n",
       "    </tr>\n",
       "    <tr>\n",
       "      <th>28</th>\n",
       "      <td>14250</td>\n",
       "      <td>0.3</td>\n",
       "      <td>4.398230e+07</td>\n",
       "      <td>0.000284</td>\n",
       "    </tr>\n",
       "    <tr>\n",
       "      <th>29</th>\n",
       "      <td>14750</td>\n",
       "      <td>0.1</td>\n",
       "      <td>4.555309e+07</td>\n",
       "      <td>0.000092</td>\n",
       "    </tr>\n",
       "    <tr>\n",
       "      <th>30</th>\n",
       "      <td>15250</td>\n",
       "      <td>0.0</td>\n",
       "      <td>4.712389e+07</td>\n",
       "      <td>0.000000</td>\n",
       "    </tr>\n",
       "    <tr>\n",
       "      <th>31</th>\n",
       "      <td>15750</td>\n",
       "      <td>0.4</td>\n",
       "      <td>4.869469e+07</td>\n",
       "      <td>0.000342</td>\n",
       "    </tr>\n",
       "    <tr>\n",
       "      <th>32</th>\n",
       "      <td>16250</td>\n",
       "      <td>0.4</td>\n",
       "      <td>5.026548e+07</td>\n",
       "      <td>0.000332</td>\n",
       "    </tr>\n",
       "    <tr>\n",
       "      <th>33</th>\n",
       "      <td>16750</td>\n",
       "      <td>0.3</td>\n",
       "      <td>5.183628e+07</td>\n",
       "      <td>0.000241</td>\n",
       "    </tr>\n",
       "  </tbody>\n",
       "</table>\n",
       "</div>"
      ],
      "text/plain": [
       "    Distance  Percentage          Area  Scaled Percents\n",
       "0        250         1.4  1.963495e+05         0.297280\n",
       "1        750         8.7  1.570796e+06         0.230923\n",
       "2       1250         9.2  3.141593e+06         0.122097\n",
       "3       1750        10.8  4.712389e+06         0.095554\n",
       "4       2250         9.7  6.283185e+06         0.064366\n",
       "5       2750         8.8  7.853982e+06         0.046715\n",
       "6       3250         7.8  9.424778e+06         0.034506\n",
       "7       3750         6.1  1.099557e+07         0.023130\n",
       "8       4250         6.1  1.256637e+07         0.020239\n",
       "9       4750         4.6  1.413717e+07         0.013566\n",
       "10      5250         4.9  1.570796e+07         0.013006\n",
       "11      5750         3.7  1.727876e+07         0.008928\n",
       "12      6250         3.7  1.884956e+07         0.008184\n",
       "13      6750         2.4  2.042035e+07         0.004900\n",
       "14      7250         1.6  2.199115e+07         0.003033\n",
       "15      7750         1.4  2.356194e+07         0.002477\n",
       "16      8250         1.7  2.513274e+07         0.002820\n",
       "17      8750         1.3  2.670354e+07         0.002030\n",
       "18      9250         0.8  2.827433e+07         0.001180\n",
       "19      9750         1.2  2.984513e+07         0.001676\n",
       "20     10250         0.3  3.141593e+07         0.000398\n",
       "21     10750         0.1  3.298672e+07         0.000126\n",
       "22     11250         0.6  3.455752e+07         0.000724\n",
       "23     11750         0.1  3.612832e+07         0.000115\n",
       "24     12250         0.2  3.769911e+07         0.000221\n",
       "25     12750         0.1  3.926991e+07         0.000106\n",
       "26     13250         0.3  4.084070e+07         0.000306\n",
       "27     13750         0.1  4.241150e+07         0.000098\n",
       "28     14250         0.3  4.398230e+07         0.000284\n",
       "29     14750         0.1  4.555309e+07         0.000092\n",
       "30     15250         0.0  4.712389e+07         0.000000\n",
       "31     15750         0.4  4.869469e+07         0.000342\n",
       "32     16250         0.4  5.026548e+07         0.000332\n",
       "33     16750         0.3  5.183628e+07         0.000241"
      ]
     },
     "execution_count": 241,
     "metadata": {},
     "output_type": "execute_result"
    }
   ],
   "source": [
    "area_scale_constant(cycling_data)"
   ]
  },
  {
   "cell_type": "code",
   "execution_count": 242,
   "id": "4bd3add3",
   "metadata": {},
   "outputs": [
    {
     "data": {
      "text/plain": [
       "[<matplotlib.lines.Line2D at 0x26946adea00>]"
      ]
     },
     "execution_count": 242,
     "metadata": {},
     "output_type": "execute_result"
    },
    {
     "data": {
      "image/png": "[encoded data removed]",
      "text/plain": [
       "<Figure size 432x288 with 1 Axes>"
      ]
     },
     "metadata": {
      "needs_background": "light"
     },
     "output_type": "display_data"
    }
   ],
   "source": [
    "plt.plot(cycling_data.Distance, cycling_data[\"Scaled Percents\"], \"ko\")"
   ]
  },
  {
   "cell_type": "code",
   "execution_count": 243,
   "id": "b5ec7307",
   "metadata": {},
   "outputs": [
    {
     "data": {
      "text/plain": [
       "array([2.97280084e-01, 2.30922922e-01, 1.22097177e-01, 9.55543126e-02,\n",
       "       6.43664467e-02, 4.67154417e-02, 3.45057240e-02, 2.31302106e-02,\n",
       "       2.02389343e-02, 1.35663530e-02, 1.30060037e-02, 8.92805446e-03,\n",
       "       8.18404992e-03, 4.90022116e-03, 3.03347024e-03, 2.47733403e-03,\n",
       "       2.82017937e-03, 2.02974847e-03, 1.17968287e-03, 1.67639145e-03,\n",
       "       3.98142969e-04, 1.26394593e-04, 7.23896308e-04, 1.15403759e-04,\n",
       "       2.21190538e-04, 1.06171458e-04, 3.06263822e-04, 9.83069060e-05,\n",
       "       2.84387835e-04, 9.15271194e-05, 0.00000000e+00, 3.42488576e-04,\n",
       "       3.31785808e-04, 2.41298769e-04])"
      ]
     },
     "execution_count": 243,
     "metadata": {},
     "output_type": "execute_result"
    }
   ],
   "source": [
    "np.array(cycling_data[\"Scaled Percents\"])"
   ]
  },
  {
   "cell_type": "code",
   "execution_count": null,
   "id": "8689c16a",
   "metadata": {},
   "outputs": [],
   "source": []
  }
 ],
 "metadata": {
  "kernelspec": {
   "display_name": "Python 3 (ipykernel)",
   "language": "python",
   "name": "python3"
  },
  "language_info": {
   "codemirror_mode": {
    "name": "ipython",
    "version": 3
   },
   "file_extension": ".py",
   "mimetype": "text/x-python",
   "name": "python",
   "nbconvert_exporter": "python",
   "pygments_lexer": "ipython3",
   "version": "3.9.12"
  }
 },
 "nbformat": 4,
 "nbformat_minor": 5
}
