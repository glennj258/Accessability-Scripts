{
 "cells": [
  {
   "cell_type": "markdown",
   "id": "49e61e65",
   "metadata": {},
   "source": [
    "# Fitting data to a curve\n",
    "This program fits a set of input data to a specified function. It uses the the scipy optimize curve_fit function, and also contains code for plotting, calculating residuals, and R^2 values.\n",
    "\n",
    "To use this code, save this program as new script, and make the edits desired there."
   ]
  },
  {
   "cell_type": "code",
   "execution_count": 1,
   "id": "d143397b",
   "metadata": {},
   "outputs": [],
   "source": [
    "import numpy as np\n",
    "import pandas as pd\n",
    "\n",
    "import matplotlib.pyplot as plt\n",
    "import scipy\n",
    "import scipy.optimize"
   ]
  },
  {
   "cell_type": "markdown",
   "id": "446680e3",
   "metadata": {},
   "source": [
    "#### Input the data to use"
   ]
  },
  {
   "cell_type": "code",
   "execution_count": 2,
   "id": "d1e127f8",
   "metadata": {},
   "outputs": [],
   "source": [
    "# specify the path to the folder containing the data you want to use, note the path finishes with / and uses /, not \\\n",
    "path = \"C:/Users/gjames/OneDrive - Esri Australia/Honours/Data/Gaussian curve fitting/\""
   ]
  },
  {
   "cell_type": "code",
   "execution_count": 3,
   "id": "266024ca",
   "metadata": {},
   "outputs": [],
   "source": [
    "#specify file name here\n",
    "walking_data = pd.read_csv(path + \"Montreal trip distance data walking work.csv\")\n",
    "#walking_data.columns # uncomment to see available columns"
   ]
  },
  {
   "cell_type": "markdown",
   "id": "34be5ecf",
   "metadata": {},
   "source": [
    "#### Defining data and plotting\n",
    "\n",
    "Use this to visualise what the data to fit will look like. It is necessary to define what input data to use here"
   ]
  },
  {
   "cell_type": "code",
   "execution_count": 4,
   "id": "d8faaf77",
   "metadata": {},
   "outputs": [
    {
     "data": {
      "text/plain": [
       "[<matplotlib.lines.Line2D at 0x254fc1ac3a0>]"
      ]
     },
     "execution_count": 4,
     "metadata": {},
     "output_type": "execute_result"
    },
    {
     "data": {
      "image/png": "[encoded data removed]",
      "text/plain": [
       "<Figure size 432x288 with 1 Axes>"
      ]
     },
     "metadata": {
      "needs_background": "light"
     },
     "output_type": "display_data"
    }
   ],
   "source": [
    "xdata = np.array(walking_data.Distance.iloc[1:])\n",
    "ydata = np.array(walking_data.Percentage.iloc[1:])\n",
    "\n",
    "plt.plot(xdata, ydata, \"ko\")"
   ]
  },
  {
   "cell_type": "markdown",
   "id": "223d6344",
   "metadata": {},
   "source": [
    "#### Specify the Function to fit\n",
    "Define the curve you wish to fit the data to here."
   ]
  },
  {
   "cell_type": "code",
   "execution_count": 5,
   "id": "ca6cde95",
   "metadata": {},
   "outputs": [],
   "source": [
    "def impedance_function_fit(xdata, A = 1, a = 1, b = 1):\n",
    "    '''Define the impedance function mathematically'''\n",
    "    \n",
    "    ydata = []\n",
    "    for x in xdata:\n",
    "        if x <= a:\n",
    "            f = A*1\n",
    "        else:\n",
    "            f = A*np.exp((-(x-a)**2)/b**2)\n",
    "        \n",
    "        ydata.append(f)\n",
    "    \n",
    "    return ydata"
   ]
  },
  {
   "cell_type": "markdown",
   "id": "d787767f",
   "metadata": {},
   "source": [
    "#### Run optimisation\n",
    "Set results equal to the parameters that we want to find. This defines the curve we want to use"
   ]
  },
  {
   "cell_type": "code",
   "execution_count": 6,
   "id": "ccbffc2f",
   "metadata": {},
   "outputs": [],
   "source": [
    "A, a, b = scipy.optimize.curve_fit(impedance_function_fit, xdata/1000, ydata)[0] \n",
    "    #in this case the /1000 was needed as the exponential curve was too small at high x values"
   ]
  },
  {
   "cell_type": "markdown",
   "id": "eb1e1191",
   "metadata": {},
   "source": [
    "#### Plot results"
   ]
  },
  {
   "cell_type": "code",
   "execution_count": 21,
   "id": "cd2a50e2",
   "metadata": {},
   "outputs": [],
   "source": [
    "#set the range of x values to plot over\n",
    "xrange_start = 0\n",
    "xrange_end = 40\n",
    "\n",
    "#set the scaling factor (speed x 0.01667)\n",
    "scaling_factor = 5*0.01667\n",
    "\n",
    "x_values = np.linspace(xrange_start, xrange_end,1000) #gives 1000 x data points\n",
    "\n",
    "#set the parameters equal to the found ones above here\n",
    "y_values = impedance_function_fit(x_values, A = A, a = a/scaling_factor, b = b/scaling_factor)"
   ]
  },
  {
   "cell_type": "code",
   "execution_count": 22,
   "id": "e41010fc",
   "metadata": {},
   "outputs": [
    {
     "data": {
      "text/plain": [
       "[<matplotlib.lines.Line2D at 0x254fd027880>,\n",
       " <matplotlib.lines.Line2D at 0x254fd0279a0>]"
      ]
     },
     "execution_count": 22,
     "metadata": {},
     "output_type": "execute_result"
    },
    {
     "data": {
      "image/png": "[encoded data removed]",
      "text/plain": [
       "<Figure size 432x288 with 1 Axes>"
      ]
     },
     "metadata": {
      "needs_background": "light"
     },
     "output_type": "display_data"
    }
   ],
   "source": [
    "plt.plot(x_values, y_values, \"b-\", xdata/1000/scaling_factor, ydata, \"ko\")"
   ]
  },
  {
   "cell_type": "markdown",
   "id": "93c63f29",
   "metadata": {},
   "source": [
    "#### Plot residuals\n",
    "Finds the differences between the fit curve and the data"
   ]
  },
  {
   "cell_type": "code",
   "execution_count": 23,
   "id": "5a452484",
   "metadata": {},
   "outputs": [],
   "source": [
    "#rempve /1000, change parameters here\n",
    "residuals = ydata - impedance_function_fit(xdata/1000, A = A, a = a, b = b) "
   ]
  },
  {
   "cell_type": "code",
   "execution_count": 24,
   "id": "205501f0",
   "metadata": {},
   "outputs": [
    {
     "data": {
      "text/plain": [
       "[<matplotlib.lines.Line2D at 0x254fd09c730>,\n",
       " <matplotlib.lines.Line2D at 0x254fd09c7f0>]"
      ]
     },
     "execution_count": 24,
     "metadata": {},
     "output_type": "execute_result"
    },
    {
     "data": {
      "image/png": "[encoded data removed]",
      "text/plain": [
       "<Figure size 432x288 with 1 Axes>"
      ]
     },
     "metadata": {
      "needs_background": "light"
     },
     "output_type": "display_data"
    }
   ],
   "source": [
    "plt.plot(xdata, residuals, \"ko\", xdata, [0]*len(xdata), \"k-\")"
   ]
  },
  {
   "cell_type": "markdown",
   "id": "80400836",
   "metadata": {},
   "source": [
    "#### Calculating R^2 value"
   ]
  },
  {
   "cell_type": "code",
   "execution_count": 25,
   "id": "35d7390b",
   "metadata": {},
   "outputs": [],
   "source": [
    "def calculate_r_squared(residuals, ydata):\n",
    "    '''Calculates the r-squared value from the residual data found above\n",
    "    '''\n",
    "    \n",
    "    #find the residual sum of squares\n",
    "    ss_res = np.sum(residuals**2)\n",
    "    \n",
    "    #find the total sum of squares\n",
    "    ss_tot = np.sum((ydata - np.mean(ydata))**2)\n",
    "    \n",
    "    #evaluate r_squared using the required formula\n",
    "    r_squared = 1 - ss_res/ss_tot\n",
    "    \n",
    "    \n",
    "    return r_squared"
   ]
  },
  {
   "cell_type": "code",
   "execution_count": 26,
   "id": "54029ec8",
   "metadata": {},
   "outputs": [
    {
     "name": "stdout",
     "output_type": "stream",
     "text": [
      "The R^2 value is  0.9395807845724573\n"
     ]
    }
   ],
   "source": [
    "print(\"The R^2 value is \", calculate_r_squared(residuals, ydata))"
   ]
  },
  {
   "cell_type": "markdown",
   "id": "210240d7",
   "metadata": {},
   "source": [
    "#### Found Parameters\n",
    "The parameters we need for future calculations, displayed from the above results"
   ]
  },
  {
   "cell_type": "code",
   "execution_count": 27,
   "id": "49980a99",
   "metadata": {},
   "outputs": [
    {
     "name": "stdout",
     "output_type": "stream",
     "text": [
      "A = 6.5943434860685795 , a = 0.24668954664504333 , b = 1.4430855472086368\n"
     ]
    }
   ],
   "source": [
    "print(\"A =\", A, \", a =\", a, \", b =\", b)"
   ]
  },
  {
   "cell_type": "code",
   "execution_count": null,
   "id": "96fa67aa",
   "metadata": {},
   "outputs": [],
   "source": []
  }
 ],
 "metadata": {
  "kernelspec": {
   "display_name": "Python 3 (ipykernel)",
   "language": "python",
   "name": "python3"
  },
  "language_info": {
   "codemirror_mode": {
    "name": "ipython",
    "version": 3
   },
   "file_extension": ".py",
   "mimetype": "text/x-python",
   "name": "python",
   "nbconvert_exporter": "python",
   "pygments_lexer": "ipython3",
   "version": "3.9.12"
  }
 },
 "nbformat": 4,
 "nbformat_minor": 5
}
