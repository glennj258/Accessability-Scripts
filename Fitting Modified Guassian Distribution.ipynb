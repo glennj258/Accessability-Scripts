{
 "cells": [
  {
   "cell_type": "markdown",
   "id": "1ba32d6e",
   "metadata": {},
   "source": [
    "### Fitting Modified Gaussian Distribution\n",
    "\n",
    "We want to take two given percentile values (e.g. the median value (50th percentile) is at 1000m), and use these to create a modified normal distribution to use for our accessability impedance function.\n",
    "\n",
    "This will be done numerically, as a gaussian function cannot be integrated, by testing an equal area constant and gaussian component, and then adjusting until a result within a given threshold of desired is reached."
   ]
  },
  {
   "cell_type": "code",
   "execution_count": 7,
   "id": "b4bbd42b",
   "metadata": {},
   "outputs": [],
   "source": [
    "import numpy as np"
   ]
  },
  {
   "cell_type": "markdown",
   "id": "84930c3c",
   "metadata": {},
   "source": [
    "The modified Gaussian function to be fit is:\n",
    "\n",
    "\\begin{align}\n",
    "    f(x) = 1,  t_{ij} <= a\\\\\n",
    "    f(x) = e^{-\\frac{(t_{ij} -a)^2}{b^2}}, t_{ij} >= a\\\\\n",
    "\\end{align}"
   ]
  },
  {
   "cell_type": "code",
   "execution_count": 8,
   "id": "6d32c11a",
   "metadata": {},
   "outputs": [],
   "source": [
    "def impedance_function(x, a=1, b=1):\n",
    "    '''Define the impedance function mathematically'''\n",
    "    \n",
    "    if x <= a:\n",
    "        f = 1\n",
    "    else:\n",
    "        f = np.exp((-(x-a)**2)/b**2)\n",
    "    \n",
    "    return f"
   ]
  },
  {
   "cell_type": "code",
   "execution_count": 9,
   "id": "39f4184a",
   "metadata": {},
   "outputs": [],
   "source": [
    "def norm_impedance_function(x, a=1, b=1):\n",
    "    '''Defines a normalised impedance function, which can be used with probabilitic values.\n",
    "    '''\n",
    "    # find the overall area of the curve\n",
    "    tot_area = a + 0.5*b*np.sqrt(np.pi)\n",
    "    \n",
    "    #evaluate the function at the given point\n",
    "    f = impedance_function(x, a=a, b=b)\n",
    "    \n",
    "    #find the normalised function\n",
    "    nf = f/tot_area\n",
    "    \n",
    "    return nf"
   ]
  },
  {
   "cell_type": "code",
   "execution_count": 10,
   "id": "1abe1bfb",
   "metadata": {},
   "outputs": [
    {
     "ename": "IndentationError",
     "evalue": "expected an indented block (3781541130.py, line 34)",
     "output_type": "error",
     "traceback": [
      "\u001b[1;36m  Input \u001b[1;32mIn [10]\u001b[1;36m\u001b[0m\n\u001b[1;33m    trial_count += 1\u001b[0m\n\u001b[1;37m    ^\u001b[0m\n\u001b[1;31mIndentationError\u001b[0m\u001b[1;31m:\u001b[0m expected an indented block\n"
     ]
    }
   ],
   "source": [
    "## not needed\n",
    "\n",
    "def find_mg_parameters(input_percentile1, value1, input_percentile2, value2, tolerance):\n",
    "    '''Finds the modified gaussian parameters a and b to match the given values within a given tolerance\n",
    "    Inputs: input_percentilex - one of the percentile input values\n",
    "            valuex - the value at the given percentile\n",
    "    '''\n",
    "    \n",
    "    #define intitial a and b values and errors to ensure the start of the loop\n",
    "    a = 1000\n",
    "    b = 200\n",
    "    \n",
    "    error1 = 1000\n",
    "    error2 = 1000\n",
    "    \n",
    "    trial_count = 0 # keep a count of the number of trials\n",
    "    \n",
    "    while abs(error1) > tolerance or abs(error2) > 1: #while either of the error values are greater than the tolerance\n",
    "\n",
    "        \n",
    "        #adjust the a and b values\n",
    "        \n",
    "        #everytime the \n",
    "        if (error1 > tolerance) or (error1 > tolerance):\n",
    "        \n",
    "        \n",
    "        \n",
    "        \n",
    "        #find the percentile with these given values\n",
    "        \n",
    "        \n",
    "    \n",
    "    \n",
    "        trial_count += 1\n",
    "    \n",
    "    "
   ]
  },
  {
   "cell_type": "code",
   "execution_count": 11,
   "id": "ebae96e9",
   "metadata": {},
   "outputs": [],
   "source": [
    "def area_of_impedance(lower_bound, upper_bound, dt, a = 1000, b = 200):\n",
    "    '''find the Rhieman integral of the impedance function, with a given resolution'''\n",
    "    \n",
    "    area = 0 #initialise the area\n",
    "    \n",
    "    no_t_values =int((upper_bound-lower_bound) / dt)\n",
    "    \n",
    "    for t in np.linspace(lower_bound, upper_bound-dt, no_t_values): #-dt gives left side rhiemman integration\n",
    "        \n",
    "        impedance_value = impedance_function(t, a=a, b=b) #find the height of the current rectangle\n",
    "        \n",
    "        area+= impedance_value*dt #add the rectangle to the overall area\n",
    "        \n",
    "    return area\n",
    "    "
   ]
  },
  {
   "cell_type": "code",
   "execution_count": 12,
   "id": "cb570806",
   "metadata": {},
   "outputs": [],
   "source": [
    "def impedance_percentile(value, dt, a = 1000, b = 200):\n",
    "    '''Finds the corresponding percentile value of a given input t value, for the given impedance function parameters'''\n",
    "    \n",
    "     # find the overall area of the curve\n",
    "    tot_area = a + 0.5*b*np.sqrt(np.pi)\n",
    "        \n",
    "    #find the area up to the percentile\n",
    "    area = area_of_impedance(0, value, dt, a=a, b=b) #have set dt to 0.1, could be changed\n",
    "    \n",
    "    #give the corresponding percentile\n",
    "    percentile = area/tot_area\n",
    "    \n",
    "    return percentile"
   ]
  },
  {
   "cell_type": "code",
   "execution_count": 76,
   "id": "611d7bd1",
   "metadata": {},
   "outputs": [],
   "source": [
    "def impedance_percentile_fit(xdata, a, b):\n",
    "    '''Impendance percentile function, but for use within the scipy optimise curve_fit function. Assumes a dt value of\n",
    "    0.1'''\n",
    "    \n",
    "    fdata = []\n",
    "    \n",
    "    for value in xdata:\n",
    "        fdata.append(impedance_percentile(value, 0.1, a = a, b = b)) #have set dt to 0.1, change here\n",
    "    \n",
    "    return fdata"
   ]
  },
  {
   "cell_type": "code",
   "execution_count": 14,
   "id": "4a6e5986",
   "metadata": {},
   "outputs": [
    {
     "data": {
      "text/plain": [
       "9.999999999999831"
      ]
     },
     "execution_count": 14,
     "metadata": {},
     "output_type": "execute_result"
    }
   ],
   "source": [
    "area_of_impedance(0,10,0.01)"
   ]
  },
  {
   "cell_type": "code",
   "execution_count": 15,
   "id": "b8b267b2",
   "metadata": {},
   "outputs": [
    {
     "data": {
      "text/plain": [
       "array([  0. ,   0.1,   0.2, ...,  99.8,  99.9, 100. ])"
      ]
     },
     "execution_count": 15,
     "metadata": {},
     "output_type": "execute_result"
    }
   ],
   "source": [
    "np.linspace(0,100,int(100/0.1 +1))"
   ]
  },
  {
   "cell_type": "code",
   "execution_count": 16,
   "id": "b52a0cc0",
   "metadata": {},
   "outputs": [
    {
     "data": {
      "text/plain": [
       "1"
      ]
     },
     "execution_count": 16,
     "metadata": {},
     "output_type": "execute_result"
    }
   ],
   "source": [
    "impedance_function(2, a=1000, b=200)"
   ]
  },
  {
   "cell_type": "code",
   "execution_count": 17,
   "id": "0cc0a9f8",
   "metadata": {},
   "outputs": [
    {
     "data": {
      "text/plain": [
       "0.4943349438177112"
      ]
     },
     "execution_count": 17,
     "metadata": {},
     "output_type": "execute_result"
    }
   ],
   "source": [
    "\n",
    "impedance_percentile(801, 0.1, a = 1000, b = 700)"
   ]
  },
  {
   "cell_type": "code",
   "execution_count": 18,
   "id": "543d998b",
   "metadata": {},
   "outputs": [
    {
     "data": {
      "text/plain": [
       "0.4993517885992762"
      ]
     },
     "execution_count": 18,
     "metadata": {},
     "output_type": "execute_result"
    }
   ],
   "source": [
    "impedance_function(700, a=400, b=360)"
   ]
  },
  {
   "cell_type": "markdown",
   "id": "46927db4",
   "metadata": {},
   "source": [
    "### Testing"
   ]
  },
  {
   "cell_type": "code",
   "execution_count": 277,
   "id": "e8a5e102",
   "metadata": {
    "scrolled": true
   },
   "outputs": [
    {
     "name": "stdout",
     "output_type": "stream",
     "text": [
      "5 :  0.5000001681308144\n",
      "10 :  0.8247528340827855\n"
     ]
    }
   ],
   "source": [
    "test_values(0, 10.51006, 5, 10) # b = 10.51 gives a curve with 50% area on either side of a point 5 along from a "
   ]
  },
  {
   "cell_type": "code",
   "execution_count": 39,
   "id": "7337a64d",
   "metadata": {},
   "outputs": [],
   "source": [
    "def test_values(a, b, value1, value2):\n",
    "    '''Gives the resulting percentiles at the given values, for a given a and b\n",
    "    '''\n",
    "    \n",
    "    \n",
    "    print(value1, \": \", impedance_percentile(value1, 0.1, a = a, b = b))\n",
    "    print(value2, \": \", impedance_percentile(value2, 0.1, a = a, b = b))"
   ]
  },
  {
   "cell_type": "markdown",
   "id": "1da45e63",
   "metadata": {},
   "source": [
    "### Plotting"
   ]
  },
  {
   "cell_type": "code",
   "execution_count": 21,
   "id": "917e714d",
   "metadata": {},
   "outputs": [],
   "source": [
    "import matplotlib.pyplot as plt"
   ]
  },
  {
   "cell_type": "code",
   "execution_count": 301,
   "id": "b04ac044",
   "metadata": {},
   "outputs": [],
   "source": [
    "values = []\n",
    "scale = 25\n",
    "t_values = np.linspace(0,scale,int(scale/0.1 + 1))\n",
    "for t in np.linspace(0,scale,int(scale/0.1 + 1)):\n",
    "    values.append(impedance_function(t, a=5, b=5.642)) "
   ]
  },
  {
   "cell_type": "code",
   "execution_count": 302,
   "id": "edc5dba5",
   "metadata": {
    "scrolled": true
   },
   "outputs": [
    {
     "data": {
      "text/plain": [
       "[<matplotlib.lines.Line2D at 0x1f177fa9fa0>]"
      ]
     },
     "execution_count": 302,
     "metadata": {},
     "output_type": "execute_result"
    },
    {
     "data": {
      "image/png": "[encoded data removed]",
      "text/plain": [
       "<Figure size 432x288 with 1 Axes>"
      ]
     },
     "metadata": {
      "needs_background": "light"
     },
     "output_type": "display_data"
    }
   ],
   "source": [
    "plt.plot(t_values, values)"
   ]
  },
  {
   "cell_type": "markdown",
   "id": "08b96eb0",
   "metadata": {},
   "source": [
    "### Optimising using scipy"
   ]
  },
  {
   "cell_type": "code",
   "execution_count": 23,
   "id": "6065c7f1",
   "metadata": {},
   "outputs": [],
   "source": [
    "import scipy\n",
    "import scipy.optimize"
   ]
  },
  {
   "cell_type": "code",
   "execution_count": 24,
   "id": "aaba5184",
   "metadata": {},
   "outputs": [],
   "source": [
    "#the xdata corresponds to the walking distances, and the ydata the corresponding percentiles\n",
    "xdata = [801,1789]\n",
    "ydata = [0.5, 0.85]"
   ]
  },
  {
   "cell_type": "code",
   "execution_count": 26,
   "id": "dcf12f4f",
   "metadata": {},
   "outputs": [
    {
     "data": {
      "text/plain": [
       "array([1.44131190e-08, 1.71570899e+03])"
      ]
     },
     "execution_count": 26,
     "metadata": {},
     "output_type": "execute_result"
    }
   ],
   "source": [
    "#this gives the values of a and b needed\n",
    "scipy.optimize.curve_fit(impedance_percentile_fit, xdata, ydata, bounds = ([0, 0], [1e9, 1e9]))"
   ]
  },
  {
   "cell_type": "code",
   "execution_count": 196,
   "id": "da9a3db7",
   "metadata": {},
   "outputs": [],
   "source": [
    "def optimise_impedance_curve(xdata, ydata):\n",
    "    '''Runs SciPy optimisation, to return the parameters and b to use within the function'''\n",
    "    a, b = scipy.optimize.curve_fit(impedance_percentile_fit, xdata, ydata)[0]#, bounds = ([0, 0], [1e9, 1e9]))[0]\n",
    "    return a, b"
   ]
  },
  {
   "cell_type": "code",
   "execution_count": 197,
   "id": "9b46e1a3",
   "metadata": {},
   "outputs": [
    {
     "data": {
      "text/plain": [
       "(-658.3072006470652, 2156.0369425561125)"
      ]
     },
     "execution_count": 197,
     "metadata": {},
     "output_type": "execute_result"
    }
   ],
   "source": [
    "optimise_impedance_curve([801,1789], [0.5, 0.85])"
   ]
  },
  {
   "cell_type": "code",
   "execution_count": 275,
   "id": "5fec3ef9",
   "metadata": {},
   "outputs": [
    {
     "data": {
      "text/plain": [
       "(5.314589434101094, 5.2869196718495175)"
      ]
     },
     "execution_count": 275,
     "metadata": {},
     "output_type": "execute_result"
    }
   ],
   "source": [
    "optimise_impedance_curve([5,9], [0.5, 0.85])"
   ]
  },
  {
   "cell_type": "code",
   "execution_count": 299,
   "id": "17a1f791",
   "metadata": {},
   "outputs": [
    {
     "data": {
      "text/plain": [
       "10.000092313404462"
      ]
     },
     "execution_count": 299,
     "metadata": {},
     "output_type": "execute_result"
    }
   ],
   "source": [
    "0.5 * 5.642*np.sqrt(np.pi)+5"
   ]
  },
  {
   "cell_type": "code",
   "execution_count": 300,
   "id": "9e73dab4",
   "metadata": {},
   "outputs": [
    {
     "name": "stdout",
     "output_type": "stream",
     "text": [
      "5 :  0.49999538437238517\n",
      "10 :  0.8976574003631618\n"
     ]
    }
   ],
   "source": [
    "test_values(5, 5.642, 5, 10)"
   ]
  },
  {
   "cell_type": "code",
   "execution_count": 295,
   "id": "b2abe1fc",
   "metadata": {},
   "outputs": [
    {
     "name": "stdout",
     "output_type": "stream",
     "text": [
      "0 :  0.0\n",
      "5 :  0.7946526042247278\n"
     ]
    }
   ],
   "source": [
    "test_values(0, 5.65, 0, 5)"
   ]
  },
  {
   "cell_type": "code",
   "execution_count": 296,
   "id": "aacb7851",
   "metadata": {},
   "outputs": [
    {
     "data": {
      "text/plain": [
       "5.64"
      ]
     },
     "execution_count": 296,
     "metadata": {},
     "output_type": "execute_result"
    }
   ],
   "source": [
    "5*1.128"
   ]
  },
  {
   "cell_type": "code",
   "execution_count": null,
   "id": "fcd5f96c",
   "metadata": {},
   "outputs": [],
   "source": []
  }
 ],
 "metadata": {
  "kernelspec": {
   "display_name": "Python 3 (ipykernel)",
   "language": "python",
   "name": "python3"
  },
  "language_info": {
   "codemirror_mode": {
    "name": "ipython",
    "version": 3
   },
   "file_extension": ".py",
   "mimetype": "text/x-python",
   "name": "python",
   "nbconvert_exporter": "python",
   "pygments_lexer": "ipython3",
   "version": "3.9.12"
  }
 },
 "nbformat": 4,
 "nbformat_minor": 5
}
