{
 "cells": [
  {
   "cell_type": "markdown",
   "id": "49e61e65",
   "metadata": {},
   "source": [
    "# Fitting data to a curve\n",
    "This program fits a set of input data to a specified function. It uses the the scipy optimize curve_fit function, and also contains code for plotting, calculating residuals, and R^2 values.\n",
    "\n",
    "To use this code, save this program as new script, and make the edits desired there."
   ]
  },
  {
   "cell_type": "code",
   "execution_count": 3,
   "id": "d143397b",
   "metadata": {},
   "outputs": [],
   "source": [
    "import numpy as np\n",
    "import pandas as pd\n",
    "\n",
    "import matplotlib.pyplot as plt\n",
    "import scipy\n",
    "import scipy.optimize"
   ]
  },
  {
   "cell_type": "markdown",
   "id": "446680e3",
   "metadata": {},
   "source": [
    "#### Input the data to use"
   ]
  },
  {
   "cell_type": "code",
   "execution_count": 4,
   "id": "d1e127f8",
   "metadata": {},
   "outputs": [],
   "source": [
    "# specify the path to the folder containing the data you want to use, note the path finishes with / and uses /, not \\\n",
    "path = \"C:/Users/gjames/OneDrive - Esri Australia/Honours/Data/Gaussian curve fitting/\""
   ]
  },
  {
   "cell_type": "code",
   "execution_count": 5,
   "id": "266024ca",
   "metadata": {},
   "outputs": [],
   "source": [
    "#specify file name here\n",
    "walking_data = pd.read_csv(path + \"Montreal trip distance data walking work.csv\")\n",
    "#walking_data.columns # uncomment to see available columns"
   ]
  },
  {
   "cell_type": "markdown",
   "id": "34be5ecf",
   "metadata": {},
   "source": [
    "#### Defining data and plotting\n",
    "\n",
    "Use this to visualise what the data to fit will look like. It is necessary to define what input data to use here"
   ]
  },
  {
   "cell_type": "code",
   "execution_count": 8,
   "id": "3b8c0776",
   "metadata": {},
   "outputs": [],
   "source": [
    "def area_scale_constant(percent_trip_df):\n",
    "    '''Takes an input set of percentage of trips by distance, and adds columns to the dataframe containing\n",
    "    the area corresponding to that percentage, and a scaled relative proportion by area\n",
    "    '''\n",
    "    xdata = np.array(percent_trip_df.Distance)\n",
    "    ydata = np.array(percent_trip_df.Percentage)\n",
    "    \n",
    "    #go through and find the area of corresponding to the given distance\n",
    "    x_areas = []\n",
    "    for i in range(len(xdata)):\n",
    "        \n",
    "        \n",
    "        area = np.pi * ((xdata[i]+100)**2 - xdata[i]**2)\n",
    "        \n",
    "        \n",
    "        #for the first area, find the difference between it and 0\n",
    "#         if i == 0:\n",
    "#             area = np.pi * xdata[i]**2\n",
    "            \n",
    "#         # otherwise find the area added to get to that distance\n",
    "#         else:\n",
    "#             area = np.pi * ( xdata[i]**2 - xdata[i-1]**2)\n",
    "        \n",
    "        x_areas.append(area)\n",
    "    \n",
    "    \n",
    "    #scale the percentage value by its corresponding area\n",
    "    scaled_percents = []\n",
    "    for i in range(len(xdata)):\n",
    "        #avoid divide by 0\n",
    "        if x_areas[i] == 0:\n",
    "            scaled_percent = 0\n",
    "        else:\n",
    "            scaled_percent = ydata[i]/x_areas[i]\n",
    "        scaled_percents.append(scaled_percent)\n",
    "    \n",
    "    #normalise results\n",
    "    #print(scaled_percents)\n",
    "    N = sum(np.array(scaled_percents))\n",
    "    #print(N)\n",
    "    scaled_percents_norm = np.array(scaled_percents)/N\n",
    "    \n",
    "    #print(scaled_percents_norm)\n",
    "        \n",
    "    #add results to the dataframe\n",
    "    percent_trip_df[\"Area\"] = x_areas\n",
    "    percent_trip_df[\"Scaled Percents\"] = scaled_percents_norm\n",
    "    \n",
    "    \n",
    "    return percent_trip_df"
   ]
  },
  {
   "cell_type": "code",
   "execution_count": 11,
   "id": "0f8869c0",
   "metadata": {},
   "outputs": [
    {
     "data": {
      "text/plain": [
       "array([6.66773366e-02, 2.11144899e-01, 1.24464362e-01, 1.00016005e-01,\n",
       "       8.76683500e-02, 7.67799634e-02, 6.24031484e-02, 5.40827286e-02,\n",
       "       3.26849689e-02, 3.39235572e-02, 2.11674085e-02, 2.27089480e-02,\n",
       "       1.73361075e-02, 1.39940089e-02, 1.26457018e-02, 8.96200761e-03,\n",
       "       8.41885564e-03, 6.98524479e-03, 6.00696727e-03, 5.12902590e-03,\n",
       "       3.79464517e-03, 3.35971076e-03, 2.96343718e-03, 3.07377793e-03,\n",
       "       3.06171444e-03, 2.17899793e-03, 1.36290154e-03, 1.61642028e-03,\n",
       "       2.33955567e-03, 1.03594732e-03, 3.64357031e-04, 9.70172888e-04,\n",
       "       5.12902590e-04, 1.65864022e-04])"
      ]
     },
     "execution_count": 11,
     "metadata": {},
     "output_type": "execute_result"
    }
   ],
   "source": [
    "np.array(area_scale_constant(walking_data)[\"Scaled Percents\"])"
   ]
  },
  {
   "cell_type": "code",
   "execution_count": 12,
   "id": "d8faaf77",
   "metadata": {},
   "outputs": [
    {
     "data": {
      "text/plain": [
       "[<matplotlib.lines.Line2D at 0x2abbccec2e0>]"
      ]
     },
     "execution_count": 12,
     "metadata": {},
     "output_type": "execute_result"
    },
    {
     "data": {
      "image/png": "[encoded data removed]",
      "text/plain": [
       "<Figure size 432x288 with 1 Axes>"
      ]
     },
     "metadata": {
      "needs_background": "light"
     },
     "output_type": "display_data"
    }
   ],
   "source": [
    "xdata = np.array(walking_data.Distance.iloc[:])\n",
    "\n",
    "#data from area scale constant function above\n",
    "ydata = np.array([6.66773366e-02, 2.11144899e-01, 1.24464362e-01, 1.00016005e-01,\n",
    "       8.76683500e-02, 7.67799634e-02, 6.24031484e-02, 5.40827286e-02,\n",
    "       3.26849689e-02, 3.39235572e-02, 2.11674085e-02, 2.27089480e-02,\n",
    "       1.73361075e-02, 1.39940089e-02, 1.26457018e-02, 8.96200761e-03,\n",
    "       8.41885564e-03, 6.98524479e-03, 6.00696727e-03, 5.12902590e-03,\n",
    "       3.79464517e-03, 3.35971076e-03, 2.96343718e-03, 3.07377793e-03,\n",
    "       3.06171444e-03, 2.17899793e-03, 1.36290154e-03, 1.61642028e-03,\n",
    "       2.33955567e-03, 1.03594732e-03, 3.64357031e-04, 9.70172888e-04,\n",
    "       5.12902590e-04, 1.65864022e-04])\n",
    "\n",
    "plt.plot(xdata, ydata, \"ko\")"
   ]
  },
  {
   "cell_type": "markdown",
   "id": "223d6344",
   "metadata": {},
   "source": [
    "#### Specify the Function to fit\n",
    "Define the curve you wish to fit the data to here."
   ]
  },
  {
   "cell_type": "code",
   "execution_count": 13,
   "id": "ca6cde95",
   "metadata": {},
   "outputs": [],
   "source": [
    "def impedance_function_fit(xdata, A = 1, a = 1, b = 1):\n",
    "    '''Define the impedance function mathematically'''\n",
    "    \n",
    "    ydata = []\n",
    "    for x in xdata:\n",
    "        if x <= a:\n",
    "            f = A*1\n",
    "        else:\n",
    "            f = A*np.exp((-(x-a)**2)/b**2)\n",
    "        \n",
    "        ydata.append(f)\n",
    "    \n",
    "    return ydata"
   ]
  },
  {
   "cell_type": "markdown",
   "id": "d787767f",
   "metadata": {},
   "source": [
    "#### Run optimisation\n",
    "Set results equal to the parameters that we want to find. This defines the curve we want to use"
   ]
  },
  {
   "cell_type": "code",
   "execution_count": 14,
   "id": "ccbffc2f",
   "metadata": {},
   "outputs": [],
   "source": [
    "A, a, b = scipy.optimize.curve_fit(impedance_function_fit, xdata/1000, ydata)[0] \n",
    "    #in this case the /1000 was needed as the exponential curve was too small at high x values"
   ]
  },
  {
   "cell_type": "markdown",
   "id": "eb1e1191",
   "metadata": {},
   "source": [
    "#### Plot results"
   ]
  },
  {
   "cell_type": "code",
   "execution_count": 15,
   "id": "cd2a50e2",
   "metadata": {},
   "outputs": [],
   "source": [
    "#set the range of x values to plot over\n",
    "xrange_start = 0\n",
    "xrange_end = 5\n",
    "\n",
    "x_values = np.linspace(xrange_start, xrange_end,1000) #gives 1000 x data points\n",
    "\n",
    "#set the parameters equal to the found ones above here\n",
    "y_values = impedance_function_fit(x_values, A = A, a = a, b = b)"
   ]
  },
  {
   "cell_type": "code",
   "execution_count": 16,
   "id": "e41010fc",
   "metadata": {},
   "outputs": [
    {
     "data": {
      "text/plain": [
       "[<matplotlib.lines.Line2D at 0x2abbcddc610>,\n",
       " <matplotlib.lines.Line2D at 0x2abbcddc730>]"
      ]
     },
     "execution_count": 16,
     "metadata": {},
     "output_type": "execute_result"
    },
    {
     "data": {
      "image/png": "[encoded data removed]",
      "text/plain": [
       "<Figure size 432x288 with 1 Axes>"
      ]
     },
     "metadata": {
      "needs_background": "light"
     },
     "output_type": "display_data"
    }
   ],
   "source": [
    "plt.plot(x_values, y_values, \"b-\", xdata/1000, ydata, \"ko\")"
   ]
  },
  {
   "cell_type": "markdown",
   "id": "93c63f29",
   "metadata": {},
   "source": [
    "#### Plot residuals\n",
    "Finds the differences between the fit curve and the data"
   ]
  },
  {
   "cell_type": "code",
   "execution_count": 17,
   "id": "5a452484",
   "metadata": {},
   "outputs": [],
   "source": [
    "#rempve /1000, change parameters here\n",
    "residuals = ydata - impedance_function_fit(xdata/1000, A = A, a = a, b = b) "
   ]
  },
  {
   "cell_type": "code",
   "execution_count": 18,
   "id": "205501f0",
   "metadata": {},
   "outputs": [
    {
     "data": {
      "text/plain": [
       "[<matplotlib.lines.Line2D at 0x2abbd262c10>,\n",
       " <matplotlib.lines.Line2D at 0x2abbd262cd0>]"
      ]
     },
     "execution_count": 18,
     "metadata": {},
     "output_type": "execute_result"
    },
    {
     "data": {
      "image/png": "[encoded data removed]",
      "text/plain": [
       "<Figure size 432x288 with 1 Axes>"
      ]
     },
     "metadata": {
      "needs_background": "light"
     },
     "output_type": "display_data"
    }
   ],
   "source": [
    "plt.plot(xdata, residuals, \"ko\", xdata, [0]*len(xdata), \"k-\")"
   ]
  },
  {
   "cell_type": "markdown",
   "id": "80400836",
   "metadata": {},
   "source": [
    "#### Calculating R^2 value"
   ]
  },
  {
   "cell_type": "code",
   "execution_count": 19,
   "id": "35d7390b",
   "metadata": {},
   "outputs": [],
   "source": [
    "def calculate_r_squared(residuals, ydata):\n",
    "    '''Calculates the r-squared value from the residual data found above\n",
    "    '''\n",
    "    \n",
    "    #find the residual sum of squares\n",
    "    ss_res = np.sum(residuals**2)\n",
    "    \n",
    "    #find the total sum of squares\n",
    "    ss_tot = np.sum((ydata - np.mean(ydata))**2)\n",
    "    \n",
    "    #evaluate r_squared using the required formula\n",
    "    r_squared = 1 - ss_res/ss_tot\n",
    "    \n",
    "    \n",
    "    return r_squared"
   ]
  },
  {
   "cell_type": "code",
   "execution_count": 20,
   "id": "54029ec8",
   "metadata": {},
   "outputs": [
    {
     "name": "stdout",
     "output_type": "stream",
     "text": [
      "The R^2 value is  0.8299379236179771\n"
     ]
    }
   ],
   "source": [
    "print(\"The R^2 value is \", calculate_r_squared(residuals, ydata))"
   ]
  },
  {
   "cell_type": "markdown",
   "id": "210240d7",
   "metadata": {},
   "source": [
    "#### Found Parameters\n",
    "The parameters we need for future calculations, displayed from the above results"
   ]
  },
  {
   "cell_type": "code",
   "execution_count": 21,
   "id": "49980a99",
   "metadata": {},
   "outputs": [
    {
     "name": "stdout",
     "output_type": "stream",
     "text": [
      "A = 0.12912223100987805 , a = 0.021725308137107883 , b = 0.7206779436114601\n"
     ]
    }
   ],
   "source": [
    "print(\"A =\", A, \", a =\", a, \", b =\", b)"
   ]
  },
  {
   "cell_type": "code",
   "execution_count": null,
   "id": "96fa67aa",
   "metadata": {},
   "outputs": [],
   "source": []
  }
 ],
 "metadata": {
  "kernelspec": {
   "display_name": "Python 3 (ipykernel)",
   "language": "python",
   "name": "python3"
  },
  "language_info": {
   "codemirror_mode": {
    "name": "ipython",
    "version": 3
   },
   "file_extension": ".py",
   "mimetype": "text/x-python",
   "name": "python",
   "nbconvert_exporter": "python",
   "pygments_lexer": "ipython3",
   "version": "3.9.12"
  }
 },
 "nbformat": 4,
 "nbformat_minor": 5
}
