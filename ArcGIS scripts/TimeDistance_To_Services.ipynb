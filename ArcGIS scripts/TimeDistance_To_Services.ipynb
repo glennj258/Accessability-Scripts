{
 "cells": [
  {
   "cell_type": "markdown",
   "metadata": {},
   "source": [
    "##  Time distance to services\n",
    "\n",
    "Finds the time and distance of each mesh block to the nearest service, by a specified mode.\n",
    "\n",
    "Inputs: A mesh block input polygon dataset; A set of services (each as a point dataset); A set of travel modes (in network-mode pairs)\n",
    "\n",
    "Output: A mesh block polygon datset with additionally attributes containing the time and distance to each service, by each mode"
   ]
  },
  {
   "cell_type": "code",
   "execution_count": 1,
   "metadata": {},
   "outputs": [],
   "source": [
    "import arcpy\n",
    "from arcgis import GeoAccessor\n",
    "import pandas as pd"
   ]
  },
  {
   "cell_type": "markdown",
   "metadata": {},
   "source": [
    "### Specify the services we want to look consider\n"
   ]
  },
  {
   "cell_type": "code",
   "execution_count": 2,
   "metadata": {},
   "outputs": [],
   "source": [
    "services_list = [\"Services\\\\CQ_TownCentres\", \"Services\\\\CQ_GroupCentres\", \"Services\\\\CQ_LocalCentres\", \"Services\\\\CQ_Schools\"]"
   ]
  },
  {
   "cell_type": "code",
   "execution_count": 3,
   "metadata": {},
   "outputs": [],
   "source": [
    "#specify the input mesh block (this input data is not edited)\n",
    "\n",
    "MB_input = \"MB_test\" #(for testing) # \"MB16_Time_Distance\" # "
   ]
  },
  {
   "cell_type": "markdown",
   "metadata": {},
   "source": [
    "### Run the tool"
   ]
  },
  {
   "cell_type": "code",
   "execution_count": 4,
   "metadata": {},
   "outputs": [],
   "source": [
    "#all_services_TimeDistance(services_list, MB_Layer = MB_input)#, MB_Output_Name = \"MB16_TD_test\")#TD stands for Time-Distance"
   ]
  },
  {
   "cell_type": "markdown",
   "metadata": {},
   "source": [
    "##### TO DO: Add multi-network functionality"
   ]
  },
  {
   "cell_type": "code",
   "execution_count": 5,
   "metadata": {},
   "outputs": [],
   "source": [
    "# specify path of paths_ND"
   ]
  },
  {
   "cell_type": "code",
   "execution_count": 6,
   "metadata": {},
   "outputs": [],
   "source": [
    "# arcpy.conversion.TableToTable(r\"OD Cost Matrix\\Lines\", r\"C:\\Users\\gjames\\OneDrive - Esri Australia\\Honours\\Data\\OD Data Production 200622\", \"Lines_Walk__CQ_TownCentres.csv\", '', r'Name \"Name\" true true true 1024 Text 0 0,First,#,OD Cost Matrix 4\\Lines,Name,0,1024;OriginID \"OriginID\" true true true 4 Long 0 0,First,#,OD Cost Matrix 4\\Lines,OriginID,-1,-1;DestinationID \"DestinationID\" true true true 4 Long 0 0,First,#,OD Cost Matrix 4\\Lines,DestinationID,-1,-1;DestinationRank \"DestinationRank\" true true true 4 Long 0 0,First,#,OD Cost Matrix 4\\Lines,DestinationRank,-1,-1;Total_Cycle_Time \"Total_Cycle_Time\" true true true 8 Double 0 0,First,#,OD Cost Matrix 4\\Lines,Total_Cycle_Time,-1,-1;Total_ECycle_Time \"Total_ECycle_Time\" true true true 8 Double 0 0,First,#,OD Cost Matrix 4\\Lines,Total_ECycle_Time,-1,-1;Total_Walk_Time \"Total_Walk_Time\" true true true 8 Double 0 0,First,#,OD Cost Matrix 4\\Lines,Total_Walk_Time,-1,-1;Total_Length \"Total_Length\" true true true 8 Double 0 0,First,#,OD Cost Matrix 4\\Lines,Total_Length,-1,-1;Shape_Length \"Shape_Length\" false true true 8 Double 0 0,First,#,OD Cost Matrix 4\\Lines,Shape_Length,-1,-1', '')"
   ]
  },
  {
   "cell_type": "code",
   "execution_count": null,
   "metadata": {},
   "outputs": [],
   "source": []
  },
  {
   "cell_type": "code",
   "execution_count": 7,
   "metadata": {},
   "outputs": [],
   "source": [
    "def all_services_TimeDistance(Services_List, Network_Dataset = \"TransitNetwork_ND\", Mode = \"Public transit time\", MB_Layer = \"MB16_Time_Distance\", MB_Output_Name = \"MB_Layer_temp\"):\n",
    "    '''Adds the time and distance to each of the services given to a field in the mesh_block_layer\n",
    "    Inputs:\n",
    "        Network Dataset name (str); Mode (str); Services_list (list); \n",
    "        MB_Layer - A meshblock layer to run closest facility on\n",
    "        MB_Output_Name - The name of the updated MB_layer to put the results in\n",
    "    Outputs: \n",
    "        (Implicit) MB_Layer_temp - A new MB layer containing the times and distances as new attributes \n",
    "    '''\n",
    "    \n",
    "    #create a copy of the MB layer to store the joins from each closest facility\n",
    "    #this allows for multiple runs\n",
    "    MB_Layer = arcpy.conversion.FeatureClassToFeatureClass(in_features=MB_Layer, out_name=MB_Output_Name, where_clause=\"\", config_keyword=\"\")[0]\n",
    "    \n",
    "    for service in Services_List:\n",
    "        #run closest facility\n",
    "        #gives a different name for each service and network mode because of join issues\n",
    "        closest_facility = Closest_Facility_To_Centres(Incidents_Polygons = MB_Layer, Network_Dataset = Network_Dataset, Mode = Mode, Input_Facilities = service, Output_Layer_Name= Mode[:4] + service)\n",
    "        \n",
    "        ##add the time and distance to the MB_Layer\n",
    "  \n",
    "        #these will be in the form \"Total_Impedance\" and \"Total_Length\" fields (except public transit)\n",
    "        #manually specify impedance\n",
    "        impedance = {\"Public transit time\" : \"PublicTransitTime\", \"Walking\": \"Walk_Time\", \"Cycling\": \"Cycle_Time\", \"Ecycling\": \"Ecycle_Time\"}\n",
    "        \n",
    "        transfer_fields = [\"Total_\"+ impedance[Mode], \"Total_Length\"]\n",
    "        \n",
    "        #join the required field from closest facility\n",
    "        \n",
    "        arcpy.management.JoinField(in_data=MB_Layer, in_field=\"OBJECTID\", join_table=closest_facility.name + \"\\\\Routes\", join_field=\"IncidentID\", fields=transfer_fields)[0]\n",
    "        \n",
    "        #estabish field names\n",
    "        time_field_name = service.split(\"\\\\\")[-1][3:] + \"_Time_\" + Mode[:4] #exclude \"xx\\\\CQ_\" from service name, and give only first 7 char of the mode \n",
    "        distance_field_name = service.split(\"\\\\\")[-1][3:] + \"_Distance_\" + Mode[:4]\n",
    "        \n",
    "        #rename the field (also allows data to be saved)\n",
    "        arcpy.management.AlterField(in_table=MB_Layer, field = transfer_fields[0], new_field_name = time_field_name, new_field_alias = time_field_name)\n",
    "        arcpy.management.AlterField(in_table=MB_Layer, field = transfer_fields[1], new_field_name = distance_field_name, new_field_alias = distance_field_name)\n",
    "     "
   ]
  },
  {
   "cell_type": "code",
   "execution_count": 8,
   "metadata": {},
   "outputs": [],
   "source": [
    "#closest facility from Population accessability file\n",
    "def Closest_Facility_To_Centres(Incidents_Polygons=\"MB16_CQ_empl\", Network_Dataset=\"TransitNetwork_ND\", Mode = \"Public transit time\", Cutoff=None, Input_Facilities=\"LR1_Stops\", Output_Layer_Name = \"Closest Facility\"):  # Closest_Facility_To_Centres\n",
    "    '''Runs the closest facility tool from a single function. \n",
    "    Inputs: A polygon layer for the incidents, a network dataset, a cutoff time in minutes, point input facilities, and a string name for \n",
    "    the output layer.\n",
    "    Outputs: A closest facility network analysis layer\n",
    "    Assumptions: A fixed start time at Thursday 11am.\n",
    "    '''\n",
    "    # To allow overwriting outputs change overwriteOutput option to True.\n",
    "    arcpy.env.overwriteOutput = True\n",
    "\n",
    "    # Process: Make Closest Facility Analysis Layer (Make Closest Facility Analysis Layer) (na)\n",
    "    Closest_Facility = arcpy.na.MakeClosestFacilityAnalysisLayer(network_data_source=Network_Dataset, layer_name=Output_Layer_Name, travel_mode=Mode, travel_direction=\"TO_FACILITIES\", cutoff=Cutoff, number_of_facilities_to_find=1, time_of_day=\"4/01/1900 11:00:00 AM\", time_zone=\"LOCAL_TIME_AT_LOCATIONS\", time_of_day_usage=\"END_TIME\", line_shape=\"ALONG_NETWORK\", accumulate_attributes=[], generate_directions_on_solve=\"NO_DIRECTIONS\", ignore_invalid_locations=\"SKIP\")[0]\n",
    "\n",
    "    # Process: Add Locations (Facilities) (Add Locations) (na)\n",
    "    Closest_Facility_with_Facilities_ = arcpy.na.AddLocations(in_network_analysis_layer=Closest_Facility, sub_layer=\"Facilities\", in_table=Input_Facilities, field_mappings=\"\", search_tolerance=\"5000 Meters\", sort_field=\"\", search_criteria=[[\"StopConnectors\", \"SHAPE\"], [\"Streets\", \"SHAPE\"], [\"Stops\", \"SHAPE\"], [\"StopsOnStreets\", \"SHAPE\"], [\"TransitNetwork_ND_Junctions\", \"NONE\"]], match_type=\"MATCH_TO_CLOSEST\", append=\"APPEND\", snap_to_position_along_network=\"NO_SNAP\", snap_offset=\"5 Meters\", exclude_restricted_elements=\"EXCLUDE\", search_query=[])[0]\n",
    "\n",
    "    # Process: Feature To Point (Feature To Point) (management)\n",
    "    Incident_Points = \"Incidents_points\"\n",
    "    arcpy.management.FeatureToPoint(in_features=Incidents_Polygons, out_feature_class=Incident_Points, point_location=\"CENTROID\")  \n",
    "\n",
    "    # Process: Add Locations (Incidents) (Add Locations) (na)\n",
    "    Closest_Facility_with_Facilities_and_Incidents_ = arcpy.na.AddLocations(in_network_analysis_layer=Closest_Facility_with_Facilities_, sub_layer=\"Incidents\", in_table=Incident_Points, field_mappings=\"\", search_tolerance=\"5000 Meters\", sort_field=\"\", search_criteria=[[\"StopConnectors\", \"SHAPE\"], [\"Streets\", \"SHAPE\"], [\"Stops\", \"SHAPE\"], [\"StopsOnStreets\", \"SHAPE\"], [\"TransitNetwork_ND_Junctions\", \"NONE\"]], match_type=\"MATCH_TO_CLOSEST\", append=\"APPEND\", snap_to_position_along_network=\"NO_SNAP\", snap_offset=\"5 Meters\", exclude_restricted_elements=\"EXCLUDE\", search_query=[])[0]\n",
    "\n",
    "    # Process: Solve (Solve) (na)\n",
    "    Closest_Facility_solved, Solve_Succeeded = arcpy.na.Solve(in_network_analysis_layer=Closest_Facility_with_Facilities_and_Incidents_, ignore_invalids=\"SKIP\", terminate_on_solve_error=\"TERMINATE\", simplification_tolerance=\"\", overrides=\"\")\n",
    "    \n",
    "    return Closest_Facility_solved"
   ]
  },
  {
   "cell_type": "markdown",
   "metadata": {},
   "source": [
    "## Exporting Data"
   ]
  },
  {
   "cell_type": "markdown",
   "metadata": {},
   "source": [
    "Here, important data can be exported for further processing, or other uses."
   ]
  },
  {
   "cell_type": "markdown",
   "metadata": {},
   "source": [
    "#### Specifying the parameters of what data to export and where"
   ]
  },
  {
   "cell_type": "code",
   "execution_count": 44,
   "metadata": {},
   "outputs": [],
   "source": [
    "#general location of data (keep this constant) (\"C:/Users/gjames/OneDrive - Esri Australia/Honours/Data/\")\n",
    "path = \"C:/Users/gjames/OneDrive - Esri Australia/Honours/Data/\""
   ]
  },
  {
   "cell_type": "code",
   "execution_count": 45,
   "metadata": {},
   "outputs": [],
   "source": [
    "# folder to store the data in (e.g. \"Testing\")\n",
    "folder = \"Testing\""
   ]
  },
  {
   "cell_type": "code",
   "execution_count": 50,
   "metadata": {},
   "outputs": [],
   "source": [
    "# the feature layer name, from this project (e.g. \"MB16_CQ_empl\", \"Services/CQ_TownCentres\")\n",
    "feature_layer_name = \"Services/CQ_TownCentres\""
   ]
  },
  {
   "cell_type": "markdown",
   "metadata": {},
   "source": [
    "#### Export the given spatial data to a csv"
   ]
  },
  {
   "cell_type": "code",
   "execution_count": 64,
   "metadata": {},
   "outputs": [],
   "source": [
    "#### Export the given spatial data\n",
    "sdf = GeoAccessor.from_featureclass(feature_layer_name)\n",
    "\n",
    "#ensuring that to_csv doesn't try to create a new folder\n",
    "if \"/\" in feature_layer_name:\n",
    "    output_feature_layer_name = feature_layer_name.replace('/', \"-\")\n",
    "    \n",
    "# output to csv\n",
    "sdf.to_csv(path + folder + \"/\" + output_feature_layer_name + \".csv\")"
   ]
  },
  {
   "cell_type": "code",
   "execution_count": 52,
   "metadata": {},
   "outputs": [
    {
     "data": {
      "text/plain": [
       "'Services/CQ_TownCentres'"
      ]
     },
     "execution_count": 52,
     "metadata": {},
     "output_type": "execute_result"
    }
   ],
   "source": [
    "feature_layer_name"
   ]
  },
  {
   "cell_type": "code",
   "execution_count": 56,
   "metadata": {},
   "outputs": [
    {
     "name": "stdout",
     "output_type": "stream",
     "text": [
      "Services-CQ_TownCentres\n"
     ]
    }
   ],
   "source": [
    "if \"/\" in feature_layer_name:\n",
    "    print(feature_layer_name.replace('/', \"-\"))"
   ]
  },
  {
   "cell_type": "markdown",
   "metadata": {},
   "source": [
    "#### In function form"
   ]
  },
  {
   "cell_type": "code",
   "execution_count": 62,
   "metadata": {},
   "outputs": [],
   "source": [
    "def export_to_csv(feature_layer_name, folder = \"Testing\", path = \"C:/Users/gjames/OneDrive - Esri Australia/Honours/Data/\"):\n",
    "    '''\n",
    "    Exports the attribute layer of the given feature layer name to a preexisting given folder at the given path\n",
    "    '''\n",
    "    #convert given data into a dataframe\n",
    "    sdf = GeoAccessor.from_featureclass(feature_layer_name)\n",
    "\n",
    "    #ensuring that to_csv doesn't try (and fail) to create a new folder\n",
    "    if \"/\" in feature_layer_name:\n",
    "        output_feature_layer_name = feature_layer_name.replace('/', \"-\")\n",
    "    if \"\\\\\" in feature_layer_name:\n",
    "        output_feature_layer_name = feature_layer_name.replace('\\\\', \"-\")\n",
    "    \n",
    "    # output to csv\n",
    "    sdf.to_csv(path + folder + \"/\" + output_feature_layer_name + \".csv\")"
   ]
  },
  {
   "cell_type": "code",
   "execution_count": null,
   "metadata": {},
   "outputs": [],
   "source": []
  },
  {
   "cell_type": "markdown",
   "metadata": {},
   "source": [
    "## Origin Destination Matrix Code\n",
    "\n",
    "Runs the origin destination matrix tool for the specified input point data."
   ]
  },
  {
   "cell_type": "code",
   "execution_count": 9,
   "metadata": {},
   "outputs": [],
   "source": [
    "def OD_data_production(layers, Mode):\n",
    "    '''\n",
    "    Finds the travel times between each of the given origins (MB data) and destinations (various service data) using the \n",
    "    Origin Destination Cost Matrix tool.\n",
    "    \n",
    "    Inputs: layers - a list of the names of point data to run the tool on (list of strings), note - these layers must be contained\n",
    "            MainDatasets.gdb example: layers = [\"CQ_TownCentres\", \"CQ_GroupCentres\"]. Could implement an optional path specification\n",
    "                \n",
    "            Mode - The mode to be used in the analysis (\"Walking\", \"Cycling\" or \"Public transit time\")\n",
    "                The network dataset to be used is set based of the mode as one of:\n",
    "                    \"C:/Users/gjames/Documents/ArcGIS/Projects/Paths_NetworkDataset/Paths_NetworkDataset.gdb/Paths_ND/Paths_ND\"\n",
    "                    \"C:/Users/gjames/Documents/ArcGIS/Projects/GTFS_Integrated/GTFS_Integrated.gdb/GTFS_CQ/TransitNetwork_ND\"\n",
    "            \n",
    "    Outputs: A .csv file for each of the input layers, in the Honours/Data/OD Data Production folder\n",
    "    '''\n",
    "    \n",
    "    arcpy.env.overwriteOutput = True #always important to include - allows tool to be run more than once without creating extra layers\n",
    "    \n",
    "    #initialise the network analysis layer\n",
    "\n",
    "    if Mode == \"Walking\" or Mode == \"Cycling\":\n",
    "        Network_Dataset = \"C:/Users/gjames/Documents/ArcGIS/Projects/Paths_NetworkDataset/Paths_NetworkDataset.gdb/Paths_ND/Paths_ND\"\n",
    "        \n",
    "        arcpy.na.MakeODCostMatrixAnalysisLayer(Network_Dataset, \"OD Cost Matrix\", Mode, line_shape = \"NO_LINES\") \n",
    "        \n",
    "        \n",
    "    elif Mode == \"Public transit time\":\n",
    "        Network_Dataset = \"C:/Users/gjames/Documents/ArcGIS/Projects/GTFS_Integrated/GTFS_Integrated.gdb/GTFS_CQ/TransitNetwork_ND\"\n",
    "        \n",
    "        # this is done separately as adding a time of day to Paths_ND signficantly adds computation time\n",
    "        arcpy.na.MakeODCostMatrixAnalysisLayer(Network_Dataset, \"OD Cost Matrix\", Mode,\n",
    "                                           time_of_day = '4/1/1900 11:00 AM', line_shape = \"NO_LINES\")\n",
    "        \n",
    "        \n",
    "    else:\n",
    "        return 'Invalid Mode, choose one of \"Walking\", \"Cycling\" or \"Public transit time\"'\n",
    "        #time_of_day = '1/4/1900 11:00 AM'\n",
    "    \n",
    "\n",
    "    \n",
    "    #add the population data (constant for all runs)\n",
    "    arcpy.na.AddLocations(\"OD Cost Matrix\", \"Origins\", \n",
    "                          r\"C:\\Users\\gjames\\Documents\\ArcGIS\\Projects\\MainDatasets\\MainDatasets.gdb\\MB16_CQ_pop_points\")\n",
    "\n",
    "    \n",
    "    #run the process for each of the layers\n",
    "    for layer in layers:\n",
    "        \n",
    "        #add locations\n",
    "        destinations_path = \"C:/Users/gjames/Documents/ArcGIS/Projects/MainDatasets/MainDatasets.gdb/\" + layer\n",
    "        \n",
    "        arcpy.na.AddLocations(\"OD Cost Matrix\", \"Destinations\",\n",
    "                              destinations_path, append = \"CLEAR\")\n",
    "        \n",
    "        #solve\n",
    "        arcpy.na.Solve(\"OD Cost Matrix\", \"SKIP\", \"TERMINATE\", None, '')\n",
    "        \n",
    "        #export to csv\n",
    "        output_name = \"Lines_\" + Mode + \"__\" + layer + \".csv\"\n",
    "        output_location = r\"C:\\Users\\gjames\\OneDrive - Esri Australia\\Honours\\Data\\OD Data Production\"\n",
    "        \n",
    "        arcpy.conversion.TableToTable(r\"OD Cost Matrix\\Lines\", output_location, output_name)\n",
    "    \n",
    "    \n",
    "    "
   ]
  },
  {
   "cell_type": "code",
   "execution_count": 10,
   "metadata": {},
   "outputs": [],
   "source": [
    "layers = [\"CQ_LocalCentres\", \"Nonzero_MB16_CQ_empl_points\"]"
   ]
  },
  {
   "cell_type": "code",
   "execution_count": 11,
   "metadata": {},
   "outputs": [],
   "source": [
    "#OD_data_production(layers, \"Public transit time\")"
   ]
  },
  {
   "cell_type": "code",
   "execution_count": 12,
   "metadata": {},
   "outputs": [],
   "source": [
    "#2021 mesh block version of the code - could set funtion to have an option later, but copy pasting is faster for now\n",
    "#only changes population source data, and output name\n",
    "def OD_data_production21(layers, Mode, services_path = \"C:/Users/gjames/Documents/ArcGIS/Projects/MainDatasets/MainDatasets.gdb/\"):\n",
    "    '''\n",
    "    Finds the travel times between each of the given origins (MB data) and destinations (various service data) using the \n",
    "    Origin Destination Cost Matrix tool.\n",
    "    \n",
    "    Inputs: layers - a list of the names of point data to run the tool on (list of strings), note - these layers should be contained\n",
    "            within MainDatasets.gdb, or otherwise the path to the services should be manually specified example: layers = \n",
    "            [\"CQ_TownCentres\", \"CQ_GroupCentres\"]\n",
    "                \n",
    "            Mode - The mode to be used in the analysis (\"Walking\", \"Cycling\" or \"Public transit time\")\n",
    "                The network dataset to be used is set based of the mode as one of:\n",
    "                    \"C:/Users/gjames/Documents/ArcGIS/Projects/Paths_NetworkDataset/Paths_NetworkDataset.gdb/Paths_ND/Paths_ND\"\n",
    "                    \"C:/Users/gjames/Documents/ArcGIS/Projects/GTFS_Integrated/GTFS_Integrated.gdb/GTFS_CQ/TransitNetwork_ND\"\n",
    "            \n",
    "    Outputs: A .csv file for each of the input layers, in the Honours/Data/OD Data Production folder\n",
    "    '''\n",
    "    \n",
    "    arcpy.env.overwriteOutput = True #always important to include - allows tool to be run more than once without creating extra layers\n",
    "    \n",
    "    #initialise the network analysis layer\n",
    "\n",
    "    if Mode == \"Walking\" or Mode == \"Cycling\":\n",
    "        Network_Dataset = \"C:/Users/gjames/Documents/ArcGIS/Projects/Paths_NetworkDataset/Paths_NetworkDataset.gdb/Paths_ND/Paths_ND\"\n",
    "        \n",
    "        arcpy.na.MakeODCostMatrixAnalysisLayer(Network_Dataset, \"OD Cost Matrix\", Mode, line_shape = \"NO_LINES\") \n",
    "        \n",
    "        \n",
    "    elif Mode == \"Public transit time\":\n",
    "        Network_Dataset = \"C:/Users/gjames/Documents/ArcGIS/Projects/GTFS_Integrated/GTFS_Integrated.gdb/GTFS_CQ/TransitNetwork_ND\"\n",
    "        \n",
    "        # this is done separately as adding a time of day to Paths_ND signficantly adds computation time\n",
    "        arcpy.na.MakeODCostMatrixAnalysisLayer(Network_Dataset, \"OD Cost Matrix\", Mode,\n",
    "                                           time_of_day = '4/1/1900 11:00 AM', line_shape = \"NO_LINES\")\n",
    "        \n",
    "        \n",
    "    else:\n",
    "        return 'Invalid Mode, choose one of \"Walking\", \"Cycling\" or \"Public transit time\"'\n",
    "        #time_of_day = '1/4/1900 11:00 AM'\n",
    "    \n",
    "\n",
    "    \n",
    "    #add the population data (constant for all runs)\n",
    "    arcpy.na.AddLocations(\"OD Cost Matrix\", \"Origins\", \n",
    "                          r\"C:\\Users\\gjames\\Documents\\ArcGIS\\Projects\\MainDatasets\\MainDatasets.gdb\\MB21_CQ_pop_points\")\n",
    "\n",
    "    \n",
    "    #run the process for each of the layers\n",
    "    for layer in layers:\n",
    "        \n",
    "        #add locations\n",
    "        destinations_path = services_path + layer\n",
    "        \n",
    "        arcpy.na.AddLocations(\"OD Cost Matrix\", \"Destinations\",\n",
    "                              destinations_path, append = \"CLEAR\")\n",
    "        \n",
    "        #solve\n",
    "        arcpy.na.Solve(\"OD Cost Matrix\", \"SKIP\", \"TERMINATE\", None, '')\n",
    "        \n",
    "        #export to csv\n",
    "        output_name = \"Lines21_\" + Mode + \"__\" + layer + \".csv\"\n",
    "        output_location = r\"C:\\Users\\gjames\\OneDrive - Esri Australia\\Honours\\Data\\OD Data Production\"\n",
    "        \n",
    "        arcpy.conversion.TableToTable(r\"OD Cost Matrix\\Lines\", output_location, output_name)\n",
    "    "
   ]
  },
  {
   "cell_type": "code",
   "execution_count": 8,
   "metadata": {},
   "outputs": [],
   "source": [
    "layers = [\"CQ_Schools\"]\n",
    "#layers = [\"CQ_TownCentres\", \"CQ_LocalCentres\",\"CQ_Schools\", \"CQ_GroupCentres\", \"Nonzero_MB16_CQ_empl_points\"]"
   ]
  },
  {
   "cell_type": "code",
   "execution_count": 4,
   "metadata": {},
   "outputs": [],
   "source": [
    "#OD_data_production21(layers, \"Walking\")\n",
    "OD_data_production21(layers, \"Walking\")"
   ]
  },
  {
   "cell_type": "code",
   "execution_count": 19,
   "metadata": {},
   "outputs": [],
   "source": [
    "#OD_data_production21(layers, \"Walking\")"
   ]
  },
  {
   "cell_type": "code",
   "execution_count": 13,
   "metadata": {},
   "outputs": [],
   "source": [
    "LA_layers = [\"LAma100_Schools_mdINIS\"] #dev_layers[:]\n",
    "services_path = \"C:\\\\Users\\\\gjames\\\\Documents\\\\ArcGIS\\\\Projects\\\\Development_Scenarios\\\\Development_Scenarios.gdb\\\\\""
   ]
  },
  {
   "cell_type": "code",
   "execution_count": 14,
   "metadata": {},
   "outputs": [],
   "source": [
    "#OD_data_production21(layers, \"Walking\")\n",
    "OD_data_production21(LA_layers, \"Walking\", services_path = services_path)"
   ]
  },
  {
   "cell_type": "code",
   "execution_count": null,
   "metadata": {},
   "outputs": [],
   "source": []
  },
  {
   "cell_type": "code",
   "execution_count": null,
   "metadata": {},
   "outputs": [],
   "source": []
  },
  {
   "cell_type": "code",
   "execution_count": null,
   "metadata": {},
   "outputs": [],
   "source": []
  },
  {
   "cell_type": "code",
   "execution_count": null,
   "metadata": {},
   "outputs": [],
   "source": []
  },
  {
   "cell_type": "code",
   "execution_count": 31,
   "metadata": {},
   "outputs": [
    {
     "data": {
      "text/plain": [
       "'LA results\\\\LAma100_GroupCentres_mdINIS'"
      ]
     },
     "execution_count": 31,
     "metadata": {},
     "output_type": "execute_result"
    }
   ],
   "source": [
    "LA_layers"
   ]
  },
  {
   "cell_type": "code",
   "execution_count": 37,
   "metadata": {},
   "outputs": [
    {
     "data": {
      "text/plain": [
       "'LAma100_GroupCentres_mdINIS'"
      ]
     },
     "execution_count": 37,
     "metadata": {},
     "output_type": "execute_result"
    }
   ],
   "source": [
    "dev_layers[1]"
   ]
  },
  {
   "cell_type": "code",
   "execution_count": 15,
   "metadata": {},
   "outputs": [
    {
     "name": "stdout",
     "output_type": "stream",
     "text": [
      "LAma100_Schools_mdINIS\n",
      "LAma100_GroupCentres_mdINIS\n",
      "LAma100_LocalCentres_mdINIS\n",
      "LAma100_Schools_Actual\n",
      "LAma100_GroupCentres_Actual\n",
      "LAma100_LocalCentres_Actual\n",
      "LAma100_Schools_TODInfill\n",
      "LAma100_GroupCentres_TODInfill\n",
      "LAma100_LocalCentres_TODInfill\n",
      "LAma100_Schools_Greenfield\n",
      "LAma100_GroupCentres_Greenfield\n",
      "LAma100_LocalCentres_Greenfield\n",
      "LAma100_Schools_EqualDev\n",
      "LAma100_GroupCentres_EqualDev\n",
      "LAma100_LocalCentres_EqualDev\n"
     ]
    }
   ],
   "source": [
    "#get all the layers from the development scenarios project\n",
    "dev_layers = []\n",
    "\n",
    "proj = arcpy.mp.ArcGISProject(r'C:\\Users\\gjames\\Documents\\ArcGIS\\Projects\\Development_Scenarios\\Development_Scenarios.aprx')\n",
    "for layer in proj.listMaps()[0].listLayers():\n",
    "    \n",
    "    if str(layer).split('\\\\')[0] == \"LA results\":\n",
    "        try:\n",
    "            dev_layers.append(str(layer).split(\"\\\\\")[1])\n",
    "            print(str(layer).split(\"\\\\\")[1])\n",
    "            \n",
    "        except:\n",
    "            continue"
   ]
  },
  {
   "cell_type": "code",
   "execution_count": 5,
   "metadata": {},
   "outputs": [
    {
     "data": {
      "text/plain": [
       "'C:/Users/gjames/Documents/ArcGIS/Projects/MainDatasets/MainDatasets.gdb/CQ_LocalCentres'"
      ]
     },
     "execution_count": 5,
     "metadata": {},
     "output_type": "execute_result"
    }
   ],
   "source": [
    "\"C:/Users/gjames/Documents/ArcGIS/Projects/MainDatasets/MainDatasets.gdb/\" + \"CQ_LocalCentres\""
   ]
  },
  {
   "cell_type": "code",
   "execution_count": null,
   "metadata": {},
   "outputs": [],
   "source": [
    "arcpy.na.MakeClosestFacilityAnalysisLayer(r\"C:\\Users\\gjames\\Documents\\ArcGIS\\Projects\\GTFS_Integrated\\GTFS_Integrated.gdb\\GTFS_CQ\\TransitNetwork_ND\", \"Closest Facility 2\", \"Public transit time\", \"TO_FACILITIES\", None, 1, None, \"LOCAL_TIME_AT_LOCATIONS\", \"START_TIME\", \"ALONG_NETWORK\", None, \"NO_DIRECTIONS\", \"SKIP\")"
   ]
  },
  {
   "cell_type": "code",
   "execution_count": null,
   "metadata": {},
   "outputs": [],
   "source": [
    "##production of data\n",
    "\n",
    "#OD_data_production(layers, \"Walking\", \"C:/Users/gjames/Documents/ArcGIS/Projects/Paths_NetworkDataset/Paths_NetworkDataset.gdb/Paths_ND/Paths_ND\")\n",
    "\n",
    "\n",
    "\n"
   ]
  },
  {
   "cell_type": "code",
   "execution_count": null,
   "metadata": {},
   "outputs": [],
   "source": [
    "arcpy.na.AddLocations(\"Closest Facility 2\", \"Incidents\",\n",
    "                      r\"C:\\Users\\gjames\\Documents\\ArcGIS\\Projects\\MainDatasets\\MainDatasets.gdb\\MB16_CQ_pop_points\",\n",
    "                      \"Name # #;TargetFacilityCount # #;CurbApproach # 0;Attr_PublicTransitTime # 0;Attr_WalkTime # 0;Attr_Length # 0;Cutoff_PublicTransitTime # #;Cutoff_WalkTime # #;Cutoff_Length # #\",\n",
    "                      \"5000 Meters\", None, \"StopConnectors SHAPE;Streets SHAPE;Stops SHAPE;StopsOnStreets SHAPE;TransitNetwork_ND_Junctions NONE\",\n",
    "                      \"MATCH_TO_CLOSEST\", \"APPEND\", \"NO_SNAP\", \"5 Meters\", \"EXCLUDE\", None)"
   ]
  },
  {
   "cell_type": "code",
   "execution_count": null,
   "metadata": {},
   "outputs": [],
   "source": []
  },
  {
   "cell_type": "code",
   "execution_count": null,
   "metadata": {},
   "outputs": [],
   "source": []
  },
  {
   "cell_type": "markdown",
   "metadata": {},
   "source": [
    "## Testing"
   ]
  },
  {
   "cell_type": "code",
   "execution_count": 65,
   "metadata": {},
   "outputs": [],
   "source": [
    "export_to_csv(\"Services\\\\CQ_LocalCentres\")"
   ]
  },
  {
   "cell_type": "markdown",
   "metadata": {},
   "source": [
    "\n",
    "\n",
    "sdf = GeoAccessor.from_featureclass(\"MB16_CQ_empl\")"
   ]
  },
  {
   "cell_type": "code",
   "execution_count": 48,
   "metadata": {},
   "outputs": [
    {
     "data": {
      "text/html": [
       "<div>\n",
       "<style scoped>\n",
       "    .dataframe tbody tr th:only-of-type {\n",
       "        vertical-align: middle;\n",
       "    }\n",
       "\n",
       "    .dataframe tbody tr th {\n",
       "        vertical-align: top;\n",
       "    }\n",
       "\n",
       "    .dataframe thead th {\n",
       "        text-align: right;\n",
       "    }\n",
       "</style>\n",
       "<table border=\"1\" class=\"dataframe\">\n",
       "  <thead>\n",
       "    <tr style=\"text-align: right;\">\n",
       "      <th></th>\n",
       "      <th>OBJECTID</th>\n",
       "      <th>MB_CODE16</th>\n",
       "      <th>MB_CAT16</th>\n",
       "      <th>Population_density</th>\n",
       "      <th>Person</th>\n",
       "      <th>State</th>\n",
       "      <th>ORIG_FID</th>\n",
       "      <th>SHAPE</th>\n",
       "    </tr>\n",
       "  </thead>\n",
       "  <tbody>\n",
       "    <tr>\n",
       "      <th>0</th>\n",
       "      <td>1</td>\n",
       "      <td>80036983000</td>\n",
       "      <td>Commercial</td>\n",
       "      <td>7.015903</td>\n",
       "      <td>3.0</td>\n",
       "      <td>8.0</td>\n",
       "      <td>4269.0</td>\n",
       "      <td>{\"x\": 149.08546049210804, \"y\": -35.34473202895...</td>\n",
       "    </tr>\n",
       "    <tr>\n",
       "      <th>1</th>\n",
       "      <td>2</td>\n",
       "      <td>None</td>\n",
       "      <td>None</td>\n",
       "      <td>NaN</td>\n",
       "      <td>NaN</td>\n",
       "      <td>NaN</td>\n",
       "      <td>NaN</td>\n",
       "      <td>{\"x\": 149.1296045511092, \"y\": -35.276486929628...</td>\n",
       "    </tr>\n",
       "    <tr>\n",
       "      <th>2</th>\n",
       "      <td>3</td>\n",
       "      <td>None</td>\n",
       "      <td>None</td>\n",
       "      <td>NaN</td>\n",
       "      <td>NaN</td>\n",
       "      <td>NaN</td>\n",
       "      <td>NaN</td>\n",
       "      <td>{\"x\": 149.13494419931544, \"y\": -35.18550910935...</td>\n",
       "    </tr>\n",
       "    <tr>\n",
       "      <th>3</th>\n",
       "      <td>4</td>\n",
       "      <td>None</td>\n",
       "      <td>None</td>\n",
       "      <td>NaN</td>\n",
       "      <td>NaN</td>\n",
       "      <td>NaN</td>\n",
       "      <td>NaN</td>\n",
       "      <td>{\"x\": 149.0674445255445, \"y\": -35.240087649525...</td>\n",
       "    </tr>\n",
       "    <tr>\n",
       "      <th>4</th>\n",
       "      <td>5</td>\n",
       "      <td>None</td>\n",
       "      <td>None</td>\n",
       "      <td>NaN</td>\n",
       "      <td>NaN</td>\n",
       "      <td>NaN</td>\n",
       "      <td>NaN</td>\n",
       "      <td>{\"x\": 149.06936027755478, \"y\": -35.41792646263...</td>\n",
       "    </tr>\n",
       "    <tr>\n",
       "      <th>5</th>\n",
       "      <td>6</td>\n",
       "      <td>None</td>\n",
       "      <td>None</td>\n",
       "      <td>NaN</td>\n",
       "      <td>NaN</td>\n",
       "      <td>NaN</td>\n",
       "      <td>NaN</td>\n",
       "      <td>{\"x\": 149.2338511028462, \"y\": -35.352636924054...</td>\n",
       "    </tr>\n",
       "  </tbody>\n",
       "</table>\n",
       "</div>"
      ],
      "text/plain": [
       "   OBJECTID  ...                                              SHAPE\n",
       "0         1  ...  {\"x\": 149.08546049210804, \"y\": -35.34473202895...\n",
       "1         2  ...  {\"x\": 149.1296045511092, \"y\": -35.276486929628...\n",
       "2         3  ...  {\"x\": 149.13494419931544, \"y\": -35.18550910935...\n",
       "3         4  ...  {\"x\": 149.0674445255445, \"y\": -35.240087649525...\n",
       "4         5  ...  {\"x\": 149.06936027755478, \"y\": -35.41792646263...\n",
       "5         6  ...  {\"x\": 149.2338511028462, \"y\": -35.352636924054...\n",
       "\n",
       "[6 rows x 8 columns]"
      ]
     },
     "execution_count": 48,
     "metadata": {},
     "output_type": "execute_result"
    }
   ],
   "source": [
    "sdf_towncentres"
   ]
  },
  {
   "cell_type": "code",
   "execution_count": 46,
   "metadata": {},
   "outputs": [
    {
     "ename": "FileNotFoundError",
     "evalue": "[Errno 2] No such file or directory: 'C:/Users/gjames/OneDrive - Esri Australia/Honours/Data/Testing/Services\\\\CQ_TownCentres.csv'",
     "output_type": "error",
     "traceback": [
      "\u001b[0;31m---------------------------------------------------------------------------\u001b[0m\n\u001b[0;31mFileNotFoundError\u001b[0m                         Traceback (most recent call last)",
      "In  \u001b[0;34m[46]\u001b[0m:\nLine \u001b[0;34m1\u001b[0m:     sdf.to_csv(\u001b[33m\"\u001b[39;49;00m\u001b[33mC:/Users/gjames/OneDrive - Esri Australia/Honours/Data/Testing/Services\u001b[39;49;00m\u001b[33m\\\\\u001b[39;49;00m\u001b[33mCQ_TownCentres.csv\u001b[39;49;00m\u001b[33m\"\u001b[39;49;00m)\n",
      "File \u001b[0;34mC:\\Program Files\\ArcGIS\\Pro\\bin\\Python\\envs\\arcgispro-py3\\lib\\site-packages\\pandas\\core\\generic.py\u001b[0m, in \u001b[0;32mto_csv\u001b[0m:\nLine \u001b[0;34m3403\u001b[0m:  storage_options=storage_options,\n",
      "File \u001b[0;34mC:\\Program Files\\ArcGIS\\Pro\\bin\\Python\\envs\\arcgispro-py3\\lib\\site-packages\\pandas\\io\\formats\\format.py\u001b[0m, in \u001b[0;32mto_csv\u001b[0m:\nLine \u001b[0;34m1083\u001b[0m:  csv_formatter.save()\n",
      "File \u001b[0;34mC:\\Program Files\\ArcGIS\\Pro\\bin\\Python\\envs\\arcgispro-py3\\lib\\site-packages\\pandas\\io\\formats\\csvs.py\u001b[0m, in \u001b[0;32msave\u001b[0m:\nLine \u001b[0;34m234\u001b[0m:   storage_options=\u001b[36mself\u001b[39;49;00m.storage_options,\n",
      "File \u001b[0;34mC:\\Program Files\\ArcGIS\\Pro\\bin\\Python\\envs\\arcgispro-py3\\lib\\site-packages\\pandas\\io\\common.py\u001b[0m, in \u001b[0;32mget_handle\u001b[0m:\nLine \u001b[0;34m647\u001b[0m:   newline=\u001b[33m\"\u001b[39;49;00m\u001b[33m\"\u001b[39;49;00m,\n",
      "\u001b[0;31mFileNotFoundError\u001b[0m: [Errno 2] No such file or directory: 'C:/Users/gjames/OneDrive - Esri Australia/Honours/Data/Testing/Services\\\\CQ_TownCentres.csv'\n\u001b[0;31m---------------------------------------------------------------------------\u001b[0m"
     ]
    }
   ],
   "source": [
    "sdf.to_csv(\"C:/Users/gjames/OneDrive - Esri Australia/Honours/Data/Testing/Services\\\\CQ_TownCentres.csv\")"
   ]
  },
  {
   "cell_type": "code",
   "execution_count": 24,
   "metadata": {},
   "outputs": [],
   "source": [
    "mylist = [1,2,3,4]"
   ]
  },
  {
   "cell_type": "code",
   "execution_count": 26,
   "metadata": {},
   "outputs": [],
   "source": [
    "mydf = pd.DataFrame(mylist)"
   ]
  },
  {
   "cell_type": "code",
   "execution_count": 38,
   "metadata": {},
   "outputs": [
    {
     "ename": "TypeError",
     "evalue": "_repr_html_() missing 1 required positional argument: 'self'",
     "output_type": "error",
     "traceback": [
      "\u001b[0;31m---------------------------------------------------------------------------\u001b[0m\n\u001b[0;31mTypeError\u001b[0m                                 Traceback (most recent call last)",
      "In  \u001b[0;34m[38]\u001b[0m:\nLine \u001b[0;34m1\u001b[0m:     \u001b[36mtype\u001b[39;49;00m(sdf)\n",
      "\u001b[0;31mTypeError\u001b[0m: _repr_html_() missing 1 required positional argument: 'self'\n\u001b[0;31m---------------------------------------------------------------------------\u001b[0m"
     ]
    }
   ],
   "source": [
    "type(sdf)"
   ]
  },
  {
   "cell_type": "code",
   "execution_count": 15,
   "metadata": {},
   "outputs": [
    {
     "data": {
      "text/plain": [
       "0    {\"x\": 149.08546049210804, \"y\": -35.34473202895...\n",
       "1    {\"x\": 149.1296045511092, \"y\": -35.276486929628...\n",
       "2    {\"x\": 149.13494419931544, \"y\": -35.18550910935...\n",
       "3    {\"x\": 149.0674445255445, \"y\": -35.240087649525...\n",
       "4    {\"x\": 149.06936027755478, \"y\": -35.41792646263...\n",
       "5    {\"x\": 149.2338511028462, \"y\": -35.352636924054...\n",
       "Name: SHAPE, dtype: geometry"
      ]
     },
     "execution_count": 15,
     "metadata": {},
     "output_type": "execute_result"
    }
   ],
   "source": [
    "sdf[\"SHAPE\"]"
   ]
  },
  {
   "cell_type": "code",
   "execution_count": 16,
   "metadata": {},
   "outputs": [
    {
     "data": {
      "text/plain": [
       "149.08546049210804"
      ]
     },
     "execution_count": 16,
     "metadata": {},
     "output_type": "execute_result"
    }
   ],
   "source": [
    "sdf[\"SHAPE\"][0][\"x\"]"
   ]
  },
  {
   "cell_type": "code",
   "execution_count": 1,
   "metadata": {},
   "outputs": [],
   "source": [
    "#define variables/paths\n",
    "MB16_CQ_pop = \"MB16_CQ_pop\"\n",
    "MB_test = \"MB_test\"\n",
    "town_centres = \"Services\\\\CQ_TownCentres\"\n",
    "\n",
    "current_path = \"C:\\\\Users\\\\gjames\\\\Documents\\\\ArcGIS\\\\Projects\\\\TimeDistance_to_service\\\\TimeDistance_to_service.gdb\""
   ]
  },
  {
   "cell_type": "code",
   "execution_count": 10,
   "metadata": {},
   "outputs": [],
   "source": [
    "#running closest facility\n",
    "closest_facility = Closest_Facility_To_Centres(Incidents_Polygons = MB_test, Input_Facilities = town_centres)\n"
   ]
  },
  {
   "cell_type": "code",
   "execution_count": 11,
   "metadata": {},
   "outputs": [],
   "source": [
    "TimeDistanceToFacility(Routes=\"Closest Facility\\\\Routes\", \n",
    "                       Mesh_Block_Inputs=MB_test, \n",
    "                       Transfer_Fields=[\"Total_PublicTransitTime\", \"Total_Length\"], \n",
    "                       Output_Path=current_path, \n",
    "                       Output_Name=\"MB16_Time_Distance\")  # TimeDistance_To_Facility"
   ]
  },
  {
   "cell_type": "code",
   "execution_count": 12,
   "metadata": {},
   "outputs": [],
   "source": [
    "#create an initial dataset to put the found times and distances in\n",
    "Output_Name = \"MB16_Time_Distance\"\n",
    "Base_layer = \"MB16_CQ_pop\"\n",
    "MB16_Time_Distance = arcpy.conversion.FeatureClassToFeatureClass(in_features=Base_layer,\n",
    "                                                                 out_path=current_path, \n",
    "                                                                 out_name=Output_Name,\n",
    "                                                                 where_clause=\"\", \n",
    "                                                                 config_keyword=\"\")[0]"
   ]
  },
  {
   "cell_type": "code",
   "execution_count": 75,
   "metadata": {},
   "outputs": [],
   "source": [
    "MB16_Time_Distance = arcpy.conversion.FeatureClassToFeatureClass(in_features=MB_test,\n",
    "                                                                 out_path=current_path, \n",
    "                                                                 out_name=Output_Name,\n",
    "                                                                 where_clause=\"\", \n",
    "                                                                 config_keyword=\"\")[0]"
   ]
  },
  {
   "cell_type": "code",
   "execution_count": 14,
   "metadata": {},
   "outputs": [],
   "source": [
    "services_list = [\"Services\\\\CQ_TownCentres\", \"Services\\\\CQ_GroupCentres\"]"
   ]
  },
  {
   "cell_type": "code",
   "execution_count": 15,
   "metadata": {},
   "outputs": [],
   "source": [
    "\n",
    "all_services_TimeDistance(services_list, MB_Layer = MB16_Time_Distance)"
   ]
  },
  {
   "cell_type": "code",
   "execution_count": 54,
   "metadata": {},
   "outputs": [
    {
     "data": {
      "text/plain": [
       "'CQ_TownCentres'"
      ]
     },
     "execution_count": 54,
     "metadata": {},
     "output_type": "execute_result"
    }
   ],
   "source": [
    "services_list[0].split(\"\\\\\")[-1]"
   ]
  },
  {
   "cell_type": "code",
   "execution_count": 4,
   "metadata": {},
   "outputs": [],
   "source": []
  },
  {
   "cell_type": "code",
   "execution_count": 5,
   "metadata": {},
   "outputs": [],
   "source": [
    "mystr = \"mystr\""
   ]
  },
  {
   "cell_type": "code",
   "execution_count": 6,
   "metadata": {},
   "outputs": [
    {
     "data": {
      "text/plain": [
       "'mystr'"
      ]
     },
     "execution_count": 6,
     "metadata": {},
     "output_type": "execute_result"
    }
   ],
   "source": [
    "mystr[:18]"
   ]
  },
  {
   "cell_type": "code",
   "execution_count": null,
   "metadata": {},
   "outputs": [],
   "source": []
  },
  {
   "cell_type": "code",
   "execution_count": 8,
   "metadata": {},
   "outputs": [],
   "source": [
    "def TimeDistanceToFacility(Routes=\"Closest Facility\\\\Routes\", Mesh_Block_Inputs=\"MB16_CQ_pop\", Transfer_Fields=[\"Total_PublicTransitTime\", \"Total_Length\"], Output_Path=\"C:\\\\Users\\\\gjames\\\\Documents\\\\ArcGIS\\\\Projects\\\\TestProject\\\\TestProject.gdb\", Output_Name=\"MB16_Time_Distance\"):  # TimeDistance_To_Facility\n",
    "\n",
    "    # To allow overwriting outputs change overwriteOutput option to True.\n",
    "    arcpy.env.overwriteOutput = True\n",
    "\n",
    "    # Process: Feature Class To Feature Class (Feature Class To Feature Class) (conversion)\n",
    "    #creates a new meshblock layer to put the data in\n",
    "    MB16_Time_Distance = arcpy.conversion.FeatureClassToFeatureClass(in_features=Mesh_Block_Inputs, out_path=Output_Path, out_name=Output_Name, where_clause=\"\", config_keyword=\"\")[0]\n",
    "\n",
    "    # Process: Join Field (Join Field) (management)\n",
    "    #join the route data to the newly created meshblock data\n",
    "    MB16_Accessability = arcpy.management.JoinField(in_data=MB16_Time_Distance, in_field=\"OBJECTID\", join_table=Routes, join_field=\"IncidentID\", fields=Transfer_Fields)[0]"
   ]
  },
  {
   "cell_type": "code",
   "execution_count": 30,
   "metadata": {},
   "outputs": [],
   "source": [
    "#original working data production\n",
    "def OD_data_production(layers, Mode, Network_Dataset):\n",
    "    '''\n",
    "    Finds the travel times between each of the given origins (MB data) and destinations (various service data) using the \n",
    "    Origin Destination Cost Matrix tool.\n",
    "    \n",
    "    Inputs: layers - a list of the names of point data to run the tool on (list of strings), note - these layers must be contained\n",
    "            MainDatasets.gdb example: layers = [\"CQ_TownCentres\", \"CQ_GroupCentres\"]. Could implement an optional path specification\n",
    "            \n",
    "            Network_Dataset - the path to the network dataset to be used either of:\n",
    "                \"C:/Users/gjames/Documents/ArcGIS/Projects/Paths_NetworkDataset/Paths_NetworkDataset.gdb/Paths_ND/Paths_ND\"\n",
    "                \"C:/Users/gjames/Documents/ArcGIS/Projects/GTFS_Integrated/GTFS_Integrated.gdb/GTFS_CQ/TransitNetwork_ND\"\n",
    "                \n",
    "            Mode - The mode to be used in the analysis (\"Walking\", \"Cycling\" or \"Public transit time\")\n",
    "            \n",
    "    Outputs: A .csv file for each of the input layers, in the Honours/Data/OD Data Production folder\n",
    "    '''\n",
    "    \n",
    "    arcpy.env.overwriteOutput = True #always important to include - allows tool to be run more than once without creating extra layers\n",
    "    \n",
    "    #initialise the network analysis layer\n",
    "    Mode = \"Walking\"\n",
    "    Network_Dataset = r\"C:\\Users\\gjames\\Documents\\ArcGIS\\Projects\\Paths_NetworkDataset\\Paths_NetworkDataset.gdb\\Paths_ND\\Paths_ND\"\n",
    "    \n",
    "        \n",
    "    \n",
    "    arcpy.na.MakeODCostMatrixAnalysisLayer(Network_Dataset, \"OD Cost Matrix\", Mode, None, None, None, \"LOCAL_TIME_AT_LOCATIONS\", \"STRAIGHT_LINES\", None, \"SKIP\")\n",
    "    \n",
    "    #add the population data (constant for all runs)\n",
    "    arcpy.na.AddLocations(\"OD Cost Matrix\", \"Origins\", \n",
    "                          r\"C:\\Users\\gjames\\Documents\\ArcGIS\\Projects\\MainDatasets\\MainDatasets.gdb\\MB16_CQ_pop_points\", \n",
    "                          \"Name # #;TargetDestinationCount # #;CurbApproach # 0;Cutoff_Walk_Time # #;Cutoff_Length # #;Cutoff_Cycle_Time # #\",\n",
    "                          \"5000 Meters\", None, \"Intrg_CQ_roads SHAPE;Intrg_cyclepaths4 SHAPE;Intrg_footpaths SHAPE;Intrg_footpath_connectivity SHAPE;Intrg_resi_streets SHAPE;Paths_ND_Junctions NONE\",\n",
    "                          \"MATCH_TO_CLOSEST\", \"CLEAR\", \"NO_SNAP\", \"5 Meters\", \"EXCLUDE\", None)\n",
    "    \n",
    "    #run the process for each of the layers\n",
    "    for layer in layers:\n",
    "        \n",
    "        #add locations\n",
    "        destinations_path = \"C:/Users/gjames/Documents/ArcGIS/Projects/MainDatasets/MainDatasets.gdb/\" + layer\n",
    "        \n",
    "        arcpy.na.AddLocations(\"OD Cost Matrix\", \"Destinations\",\n",
    "                              destinations_path,\n",
    "                              \"Name # #;CurbApproach # 0\", \"5000 Meters\", None,\n",
    "                              \"Intrg_CQ_roads SHAPE;Intrg_cyclepaths4 SHAPE;Intrg_footpaths SHAPE;Intrg_footpath_connectivity SHAPE;Intrg_resi_streets SHAPE;Paths_ND_Junctions NONE\",\n",
    "                              \"MATCH_TO_CLOSEST\", \"CLEAR\", \"NO_SNAP\", \"5 Meters\", \"EXCLUDE\", None)\n",
    "        \n",
    "        #solve\n",
    "        arcpy.na.Solve(\"OD Cost Matrix\", \"SKIP\", \"TERMINATE\", None, '')\n",
    "        \n",
    "        #export to csv\n",
    "        output_name = \"Lines_\" + Mode + \"__\" + layer + \".csv\"\n",
    "        output_location = r\"C:\\Users\\gjames\\OneDrive - Esri Australia\\Honours\\Data\\OD Data Production\"\n",
    "        \n",
    "        arcpy.conversion.TableToTable(r\"OD Cost Matrix\\Lines\", output_location, output_name, '',\n",
    "                                      r'Name \"Name\" true true true 1024 Text 0 0,First,#,OD Cost Matrix\\Lines,Name,0,1024;OriginID \"OriginID\" true true true 4 Long 0 0,First,#,OD Cost Matrix\\Lines,OriginID,-1,-1;DestinationID \"DestinationID\" true true true 4 Long 0 0,First,#,OD Cost Matrix\\Lines,DestinationID,-1,-1;DestinationRank \"DestinationRank\" true true true 4 Long 0 0,First,#,OD Cost Matrix\\Lines,DestinationRank,-1,-1;Total_Walk_Time \"Total_Walk_Time\" true true true 8 Double 0 0,First,#,OD Cost Matrix\\Lines,Total_Walk_Time,-1,-1;Total_Length \"Total_Length\" true true true 8 Double 0 0,First,#,OD Cost Matrix\\Lines,Total_Length,-1,-1;Total_Cycle_Time \"Total_Cycle_Time\" true true true 8 Double 0 0,First,#,OD Cost Matrix\\Lines,Total_Cycle_Time,-1,-1;Shape_Length \"Shape_Length\" false true true 8 Double 0 0,First,#,OD Cost Matrix\\Lines,Shape_Length,-1,-1', '')\n",
    "    \n",
    "    "
   ]
  },
  {
   "cell_type": "code",
   "execution_count": null,
   "metadata": {},
   "outputs": [],
   "source": []
  }
 ],
 "metadata": {
  "kernelspec": {
   "display_name": "ArcGISPro",
   "language": "Python",
   "name": "python3"
  },
  "language_info": {
   "file_extension": ".py",
   "name": "python",
   "version": "3"
  }
 },
 "nbformat": 4,
 "nbformat_minor": 2
}
