{
 "cells": [
  {
   "cell_type": "markdown",
   "metadata": {},
   "source": [
    "## Population Accessability\n",
    "Determines the population/employment within a given time along a given network from a set of input facility locations.\n",
    "\n",
    "Inputs: \n",
    "- Point data containing the locations of key services;\n",
    "- Mesh block (polygon) data containing  field to add up (usually population)\n",
    "- Cutoff time (the time in minutes that you want to investigate the accessability for)\n",
    "- A network dataset\n",
    "\n",
    "Outputs:\n",
    "- An updated closest facility layer: Routes is updated to include the population of the mesh block it connects; Facilities is updated to contain the total population that is within the cutoff and closest to that facility\n",
    "- A table containing the total population accessable to each facility\n",
    "- A table containing the total population accessable to all facilities\n",
    "\n",
    "This code has two components. One which finds the required routes using closest facility, and a second which outputs a table containiing the total population closest to each facility."
   ]
  },
  {
   "cell_type": "code",
   "execution_count": 1,
   "metadata": {},
   "outputs": [],
   "source": [
    "import arcpy\n",
    "from arcgis import GeoAccessor\n",
    "import pandas as pd"
   ]
  },
  {
   "cell_type": "code",
   "execution_count": 3,
   "metadata": {},
   "outputs": [],
   "source": [
    "#paths for data to be used\n",
    "MB16_CQ_pop = \"MainDatasets\\\\MB16_CQ_pop\"\n",
    "MB16_CQ_empl = \"MainDatasets\\\\MB16_CQ_empl\"\n",
    "MB_test = \"MB_test\"\n",
    "city_centre =  \"Test Runs\\\\CityCentre\""
   ]
  },
  {
   "cell_type": "code",
   "execution_count": 5,
   "metadata": {},
   "outputs": [
    {
     "data": {
      "text/plain": [
       "(<Result 'C:\\\\Users\\\\gjames\\\\Documents\\\\ArcGIS\\\\Projects\\\\TestProject\\\\TestProject.gdb\\\\Routes_Statistics'>, <Result 'C:\\\\Users\\\\gjames\\\\Documents\\\\ArcGIS\\\\Projects\\\\TestProject\\\\TestProject.gdb\\\\Total_Statistic'>)"
      ]
     },
     "execution_count": 5,
     "metadata": {},
     "output_type": "execute_result"
    }
   ],
   "source": [
    "#population accessability - main code (run functions below first)\n",
    "closest_facility = Closest_Facility_To_Centres(Incidents_Polygons = MB_test, Input_Facilities = city_centre)\n",
    "\n",
    "Find_Total_Field(Incidents_Polygons=MB16_CQ_empl,\n",
    "                 Facilities=closest_facility.name + \"\\\\Facilities\", \n",
    "                 Routes=closest_facility.name + \"\\\\Routes\", \n",
    "                 Field_to_sum = \"MB_Employment_Count\",\n",
    "                 Total_Statistic=\"Total_Statistic\", \n",
    "                 Routes_Statistics=\"Routes_Statistics\")\n"
   ]
  },
  {
   "cell_type": "code",
   "execution_count": 1,
   "metadata": {},
   "outputs": [],
   "source": [
    "def Closest_Facility_To_Centres(Incidents_Polygons=\"MB16_CQ_empl\", Network_Dataset=\"TransitNetwork_ND\", Mode = \"Public transit time\", Cutoff=None, Input_Facilities=\"LR1_Stops\", Output_Layer_Name = \"Closest Facility\"):  # Closest_Facility_To_Centres\n",
    "    '''Runs the closest facility tool from a single function. \n",
    "    Inputs: A polygon layer for the incidents, a network dataset, a cutoff time in minutes, point input facilities, and a string name for \n",
    "    the output layer.\n",
    "    Outputs: A closest facility network analysis layer\n",
    "    Assumptions: A fixed start time at Thursday 11am.\n",
    "    '''\n",
    "    # To allow overwriting outputs change overwriteOutput option to True.\n",
    "    arcpy.env.overwriteOutput = True\n",
    "\n",
    "    # Process: Make Closest Facility Analysis Layer (Make Closest Facility Analysis Layer) (na)\n",
    "    Closest_Facility = arcpy.na.MakeClosestFacilityAnalysisLayer(network_data_source=Network_Dataset, layer_name=Output_Layer_Name, travel_mode=Mode, travel_direction=\"TO_FACILITIES\", cutoff=Cutoff, number_of_facilities_to_find=1, time_of_day=\"4/01/1900 11:00:00 AM\", time_zone=\"LOCAL_TIME_AT_LOCATIONS\", time_of_day_usage=\"END_TIME\", line_shape=\"ALONG_NETWORK\", accumulate_attributes=[], generate_directions_on_solve=\"NO_DIRECTIONS\", ignore_invalid_locations=\"SKIP\")[0]\n",
    "\n",
    "    # Process: Add Locations (Facilities) (Add Locations) (na)\n",
    "    Closest_Facility_with_Facilities_ = arcpy.na.AddLocations(in_network_analysis_layer=Closest_Facility, sub_layer=\"Facilities\", in_table=Input_Facilities, field_mappings=\"\", search_tolerance=\"5000 Meters\", sort_field=\"\", search_criteria=[[\"StopConnectors\", \"SHAPE\"], [\"Streets\", \"SHAPE\"], [\"Stops\", \"SHAPE\"], [\"StopsOnStreets\", \"SHAPE\"], [\"TransitNetwork_ND_Junctions\", \"NONE\"]], match_type=\"MATCH_TO_CLOSEST\", append=\"APPEND\", snap_to_position_along_network=\"NO_SNAP\", snap_offset=\"5 Meters\", exclude_restricted_elements=\"EXCLUDE\", search_query=[])[0]\n",
    "\n",
    "    # Process: Feature To Point (Feature To Point) (management)\n",
    "    Incident_Points = \"Incidents_points\"\n",
    "    arcpy.management.FeatureToPoint(in_features=Incidents_Polygons, out_feature_class=Incident_Points, point_location=\"CENTROID\")  \n",
    "\n",
    "    # Process: Add Locations (Incidents) (Add Locations) (na)\n",
    "    Closest_Facility_with_Facilities_and_Incidents_ = arcpy.na.AddLocations(in_network_analysis_layer=Closest_Facility_with_Facilities_, sub_layer=\"Incidents\", in_table=Incident_Points, field_mappings=\"\", search_tolerance=\"5000 Meters\", sort_field=\"\", search_criteria=[[\"StopConnectors\", \"SHAPE\"], [\"Streets\", \"SHAPE\"], [\"Stops\", \"SHAPE\"], [\"StopsOnStreets\", \"SHAPE\"], [\"TransitNetwork_ND_Junctions\", \"NONE\"]], match_type=\"MATCH_TO_CLOSEST\", append=\"APPEND\", snap_to_position_along_network=\"NO_SNAP\", snap_offset=\"5 Meters\", exclude_restricted_elements=\"EXCLUDE\", search_query=[])[0]\n",
    "\n",
    "    # Process: Solve (Solve) (na)\n",
    "    Closest_Facility_solved, Solve_Succeeded = arcpy.na.Solve(in_network_analysis_layer=Closest_Facility_with_Facilities_and_Incidents_, ignore_invalids=\"SKIP\", terminate_on_solve_error=\"TERMINATE\", simplification_tolerance=\"\", overrides=\"\")\n",
    "    \n",
    "    return Closest_Facility_solved"
   ]
  },
  {
   "cell_type": "code",
   "execution_count": 2,
   "metadata": {},
   "outputs": [],
   "source": [
    "#Join the field to the meshblock layer\n",
    "def Find_Total_Field(Incidents_Polygons=\"MainDatasets\\\\MB16_CQ_empl\", \n",
    "                     Facilities=\"Closest Facility\\\\Facilities\", \n",
    "                     Routes=\"Closest Facility\\\\Routes\", \n",
    "                     Field_to_sum = \"MB_Employment_Count\",           \n",
    "                     Total_Statistic=\"C:\\\\Users\\\\gjames\\\\Documents\\\\ArcGIS\\\\Projects\\\\TestProject\\\\TestProject.gdb\\\\Total_Statistic\", \n",
    "                     Routes_Statistics=\"C:\\\\Users\\\\gjames\\\\Documents\\\\ArcGIS\\\\Projects\\\\TestProject\\\\TestProject.gdb\\\\Routes_Statistics\"):  # Find_Total_Field_Within_Distance\n",
    "    '''Adds up a particular field in the incidents which have the same closest facility.\n",
    "    To be run after closest facility.\n",
    "    Inputs: The incident polygons used in the closest facility tool, containing the required field (e.g. population) to be added up;\n",
    "            The routes and facilities layers output from closest facility\n",
    "    Outputs:\n",
    "        (Implicit) A point dataset of the incidents.\n",
    "        (Implicit) An updated route layer containing the population count.\n",
    "        (Implicit) A table containing the total population by facility.\n",
    "        (Implicit) An updated facility layer containing the population count.\n",
    "        (Implicit) A table containig the total population\n",
    "        (Explicit) A tuple containing the two tables.'''\n",
    "    \n",
    "    Transfer_Fields=[Field_to_sum]\n",
    "    Statistics_Field_s_=[[Field_to_sum, \"SUM\"]]\n",
    "    SUM_Statistics_Field_s_=[[\"SUM_\"+Field_to_sum, \"SUM\"]]\n",
    "    SUM_Transfer_Fields=[\"SUM_\"+Field_to_sum]\n",
    "    \n",
    "    # To allow overwriting outputs change overwriteOutput option to True.\n",
    "    arcpy.env.overwriteOutput = True\n",
    "\n",
    "    # Process: Feature To Point (Feature To Point) (management)\n",
    "    Incidents_Points = \"Incidents_points\"\n",
    "    arcpy.management.FeatureToPoint(in_features=Incidents_Polygons, out_feature_class=Incidents_Points, point_location=\"CENTROID\")\n",
    "\n",
    "    # Process: Join Field (Join Field) (management)\n",
    "    #adding a population field to the routes\n",
    "    Routes_2_ = arcpy.management.JoinField(in_data=Routes, in_field=\"IncidentID\", join_table=Incidents_Points, join_field=\"OBJECTID\", fields=Transfer_Fields)[0]\n",
    "\n",
    "    # Process: Summary Statistics (Summary Statistics) (analysis)\n",
    "    #adding up all the population with routes to the same facility\n",
    "    totals_by_facility = arcpy.analysis.Statistics(in_table=Routes_2_, out_table=Routes_Statistics, statistics_fields=Statistics_Field_s_, case_field=[\"FacilityID\"])\n",
    "\n",
    "    # Process: Join Field (2) (Join Field) (management)\n",
    "    Updated_Facilities_with_Population = arcpy.management.JoinField(in_data=Facilities, in_field=\"ObjectID\", join_table=Routes_Statistics, join_field=\"FacilityID\", fields=SUM_Transfer_Fields)[0]\n",
    "\n",
    "    # Process: Summary Statistics (2) (Summary Statistics) (analysis)\n",
    "    overall_total = arcpy.analysis.Statistics(in_table=Updated_Facilities_with_Population, out_table=Total_Statistic, statistics_fields=SUM_Statistics_Field_s_, case_field=[])\n",
    "    \n",
    "    return totals_by_facility, overall_total"
   ]
  },
  {
   "cell_type": "code",
   "execution_count": null,
   "metadata": {},
   "outputs": [],
   "source": [
    "def add_source_information(OD_Layer = \"OD Cost Matrix\", Origin_Source, Destination_Source):\n",
    "    '''Takes an Origin Destination analysis layer, and adds the origin and destination source layer information to the output fields\n",
    "    '''\n",
    "    OD_df = GeoAccessor.from_featureclass(OD_Layer + \"\\\")\n",
    "    \n",
    "    origins_df = GeoAccessor.from_featureclass(feature_layer_name)"
   ]
  }
 ],
 "metadata": {
  "kernelspec": {
   "display_name": "ArcGISPro",
   "language": "Python",
   "name": "python3"
  },
  "language_info": {
   "file_extension": ".py",
   "name": "python",
   "version": "3"
  }
 },
 "nbformat": 4,
 "nbformat_minor": 2
}
